{
  "cells": [
    {
      "cell_type": "code",
      "execution_count": null,
      "metadata": {
        "collapsed": false
      },
      "outputs": [],
      "source": [
        "%matplotlib inline"
      ]
    },
    {
      "cell_type": "markdown",
      "metadata": {},
      "source": [
        "Using custom cost matrices\n==========================\n"
      ]
    },
    {
      "cell_type": "markdown",
      "metadata": {},
      "source": [
        "This notebook demonstrates how to use custom cost matrices\n\nEven if it is recommended to pass the data as opposed to pre-computed\ncost matrices due to computational complexity, we demonstrate in the\nfollowing how to pass custom cost matrices.\n\nThere are two ways to pass custom cost matrices, either by setting them\non a single problem level after preparing the problem or by\n`anndata.AnnData.obsp`{.interpreted-text role=\"attr\"}.\n"
      ]
    },
    {
      "cell_type": "code",
      "execution_count": null,
      "metadata": {
        "collapsed": false
      },
      "outputs": [],
      "source": [
        "from moscot.datasets import simulate_data\nfrom moscot.problems.generic import FGWProblem\nimport scanpy as sc\n\nimport numpy as np\nimport pandas as pd\n\nrng = np.random.default_rng(seed=42)\nadata = simulate_data(n_distributions=3, key=\"batch\")\nsc.pp.pca(adata)\nadata"
      ]
    },
    {
      "cell_type": "markdown",
      "metadata": {},
      "source": [
        "The first option is to prepare the problem in an arbitrary way and\noverride the cost terms of the single OT problems after.\n"
      ]
    },
    {
      "cell_type": "code",
      "execution_count": null,
      "metadata": {
        "collapsed": false
      },
      "outputs": [],
      "source": [
        "fgwp = FGWProblem(adata)\nfgwp = fgwp.prepare(key=\"batch\", joint_attr=\"X_pca\", GW_x=\"X_pca\", GW_y=\"X_pca\")\nfgwp"
      ]
    },
    {
      "cell_type": "markdown",
      "metadata": {},
      "source": [
        "Passing custom cost matrices one by one\n=======================================\n\nWe can pass the custom cost matrices by accessing the\n`moscot.problems.base.OTProblem`{.interpreted-text role=\"class\"}. The\nmethod `moscot.problems.base.OTProblem.set_xy`{.interpreted-text\nrole=\"meth\"} allows to pass a custom cost matrix for the linear term.\n`moscot.problems.base.OTProblem.set_x`{.interpreted-text role=\"meth\"}\nallows to set a custom cost matrix for the quadratic term corresponding\nto the source distribution, while\n`moscot.problems.base.OTProblem.set_y`{.interpreted-text role=\"meth\"}\nworks analogously for the quadratic term in the target distribution.\n\nWhen using the above-mentioned methods we need to pass a\n`pandas.DataFrame`{.interpreted-text role=\"class\"} to ensure that the\norder of the rows and columns of the cost matrix is correct. In the\nfollowing we retrieve the cell names to construct the\n`pandas.DataFrame`{.interpreted-text role=\"class\"} containing (random)\ncustom cost matrices.\n"
      ]
    },
    {
      "cell_type": "code",
      "execution_count": null,
      "metadata": {
        "collapsed": false
      },
      "outputs": [],
      "source": [
        "obs_names_0 = fgwp[\"0\", \"1\"].adata_src.obs_names\nobs_names_1 = fgwp[\"0\", \"1\"].adata_tgt.obs_names\n\ncost_linear_01 = np.abs(rng.normal(size=(len(obs_names_0), len(obs_names_1))))\ncost_quad_0 = np.abs(rng.normal(size=(len(obs_names_0), len(obs_names_0))))\nnp.fill_diagonal(cost_quad_0, 0)\ncost_quad_1 = np.abs(rng.normal(size=(len(obs_names_1), len(obs_names_1))))\nnp.fill_diagonal(cost_quad_1, 0)\n\ncm_linear = pd.DataFrame(data=cost_linear_01, index=obs_names_0, columns=obs_names_1)\ncm_quad_0 = pd.DataFrame(data=cost_quad_0, index=obs_names_0, columns=obs_names_0)\ncm_quad_1 = pd.DataFrame(data=cost_quad_1, index=obs_names_1, columns=obs_names_1)"
      ]
    },
    {
      "cell_type": "markdown",
      "metadata": {},
      "source": [
        "Now we can set the custom cost matrices:\n"
      ]
    },
    {
      "cell_type": "code",
      "execution_count": null,
      "metadata": {
        "collapsed": false
      },
      "outputs": [],
      "source": [
        "fgwp[\"0\", \"1\"].set_xy(cm_linear, tag=\"cost_matrix\")\nfgwp[\"0\", \"1\"].set_x(cm_quad_0, tag=\"cost_matrix\")\nfgwp[\"0\", \"1\"].set_y(cm_quad_1, tag=\"cost_matrix\")"
      ]
    },
    {
      "cell_type": "markdown",
      "metadata": {},
      "source": [
        "When solving the problem, the custom cost matrices will be used for the\nproblem mapping from batch \\\"0\\\" to batch \\\"1\\\", while the problem\nmapping from batch \\\"1\\\" to batch \\\"2\\\" is still using the information\npassed in `moscot.problems.generic.FGWProblem.prepare`{.interpreted-text\nrole=\"meth\"}.\n"
      ]
    },
    {
      "cell_type": "markdown",
      "metadata": {},
      "source": [
        "Passing custom cost matrices via `anndata.AnnData.obsp`{.interpreted-text role=\"attr\"}\n======================================================================================\n\nA second way to pass custom cost matrices is using\n`anndata.AnnData.obsp`{.interpreted-text role=\"attr\"}. This is\nespecially useful when saving and loading a model. On the other hand, it\nmight be more difficult to store the cost matrix in the correct place in\n`anndata.AnnData.obsp`{.interpreted-text role=\"attr\"}. In the following,\nwe construct the attr:[anndata.AnnData.obsp]{.title-ref} layer. When\ndoing this, be sure that the order of the cost matrix entries are\ncorrect. In the following, we construct an\n`anndata.AnnData.obsp`{.interpreted-text role=\"attr\"} layer containing\ncustom cost matrices for both linear and quadratic terms for both OT\nproblems, mapping from batch \\\"0\\\" to batch \\\"1\\\", and from batch \\\"1\\\"\nto batch \\\"2\\\".\n"
      ]
    },
    {
      "cell_type": "code",
      "execution_count": null,
      "metadata": {
        "collapsed": false
      },
      "outputs": [],
      "source": [
        "obs_names_2 = fgwp[\"1\", \"2\"].adata_tgt.obs_names\n\ncost_linear_12 = np.abs(rng.normal(size=(len(obs_names_1), len(obs_names_2))))\ncost_quad_2 = np.abs(rng.normal(size=(len(obs_names_2), len(obs_names_2))))\nnp.fill_diagonal(cost_quad_2, 0)\n\nprint(cost_quad_0.shape)\nprint(cost_quad_1.shape)\nprint(cost_quad_2.shape)\nprint(cost_linear_01.shape)\nprint(cost_linear_12.shape)\n\nblocks = [\n    [cost_quad_0, cost_linear_01, np.zeros((len(obs_names_0), len(obs_names_2)))],\n    [np.zeros((len(obs_names_1), len(obs_names_0))), cost_quad_1, cost_linear_12],\n    [np.zeros((len(obs_names_2), len(obs_names_0))), np.zeros((len(obs_names_2), len(obs_names_1))), cost_quad_2],\n]\n\nprint(adata.shape)\nadata.obsp[\"cost_matrices\"] = np.block(blocks)"
      ]
    },
    {
      "cell_type": "markdown",
      "metadata": {},
      "source": [
        "We need to specify where to fetch the custom cost matrices in the\n`moscot.problems.generic.FGWProblem.prepare`{.interpreted-text\nrole=\"meth\"} methods. If we want to only use the linear custom cost\nmatrix, we need to modify the [joint\\_attr]{.title-ref} as follows\n"
      ]
    },
    {
      "cell_type": "code",
      "execution_count": null,
      "metadata": {
        "collapsed": false
      },
      "outputs": [],
      "source": [
        "joint_attr = {\"key\": \"cost_matrices\", \"tag\": \"cost_matrix\"}\nfgwp = fgwp.prepare(key=\"batch\", joint_attr=joint_attr, GW_x=\"X_pca\", GW_y=\"X_pca\")"
      ]
    },
    {
      "cell_type": "markdown",
      "metadata": {},
      "source": [
        "If we want to use only quadratic custom cost matrices, we need to modify\n[GW\\_x]{.title-ref} and [GW\\_y]{.title-ref}.\n"
      ]
    },
    {
      "cell_type": "code",
      "execution_count": null,
      "metadata": {
        "collapsed": false
      },
      "outputs": [],
      "source": [
        "GW_x = {\"attr\": \"obsp\", \"key\": \"cost_matrices\", \"tag\": \"cost_matrix\", \"cost\": \"custom\"}\nGW_y = {\"attr\": \"obsp\", \"key\": \"cost_matrices\", \"tag\": \"cost_matrix\", \"cost\": \"custom\"}\nfgwp = fgwp.prepare(key=\"batch\", joint_attr=\"X_pca\", GW_x=GW_x, GW_y=GW_y)"
      ]
    },
    {
      "cell_type": "markdown",
      "metadata": {},
      "source": [
        "If we want to use custom cost matrices for all terms, we can do this the\nfollowing way\n"
      ]
    },
    {
      "cell_type": "code",
      "execution_count": null,
      "metadata": {
        "collapsed": false
      },
      "outputs": [],
      "source": [
        "fgwp = fgwp.prepare(key=\"batch\", joint_attr=joint_attr, GW_x=GW_x, GW_y=GW_y)"
      ]
    },
    {
      "cell_type": "markdown",
      "metadata": {},
      "source": [
        "TODO: link to notebook explaining tagged arrays\n"
      ]
    }
  ],
  "metadata": {
    "kernelspec": {
      "display_name": "Python 3",
      "language": "python",
      "name": "python3"
    },
    "language_info": {
      "codemirror_mode": {
        "name": "ipython",
        "version": 3
      },
      "file_extension": ".py",
      "mimetype": "text/x-python",
      "name": "python",
      "nbconvert_exporter": "python",
      "pygments_lexer": "ipython3",
      "version": "3.9.15"
    }
  },
  "nbformat": 4,
  "nbformat_minor": 0
}