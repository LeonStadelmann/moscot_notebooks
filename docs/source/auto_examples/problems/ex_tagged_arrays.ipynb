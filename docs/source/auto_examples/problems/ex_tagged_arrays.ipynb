{
  "cells": [
    {
      "cell_type": "code",
      "execution_count": null,
      "metadata": {
        "collapsed": false
      },
      "outputs": [],
      "source": [
        "%matplotlib inline"
      ]
    },
    {
      "cell_type": "markdown",
      "metadata": {},
      "source": [
        "Tagged Arrays\n=============\n"
      ]
    },
    {
      "cell_type": "markdown",
      "metadata": {},
      "source": [
        "This notebook introduces `moscot.solvers.TaggedArray`{.interpreted-text\nrole=\"class\"}.\n\n`moscot.solvers.TaggedArray`{.interpreted-text role=\"class\"} stores the\ndata passed by the users in a unified way before it is passed to the\nbackend.\n"
      ]
    },
    {
      "cell_type": "code",
      "execution_count": null,
      "metadata": {
        "collapsed": false
      },
      "outputs": [],
      "source": [
        "from moscot.datasets import simulate_data\nfrom moscot.problems.generic import FGWProblem\nimport scanpy as sc\n\nimport numpy as np\nimport pandas as pd\n\nrng = np.random.default_rng(seed=42)\nadata = simulate_data(n_distributions=2, key=\"batch\")\nsc.pp.pca(adata)\nadata"
      ]
    },
    {
      "cell_type": "markdown",
      "metadata": {},
      "source": [
        "We instantiate and prepare a\n`moscot.problems.generic.FGWProblem`{.interpreted-text role=\"class\"} to\ndemonstrate the role of `moscot.solvers.TaggedArray`{.interpreted-text\nrole=\"class\"}.\n"
      ]
    },
    {
      "cell_type": "code",
      "execution_count": null,
      "metadata": {
        "collapsed": false
      },
      "outputs": [],
      "source": [
        "fgwp = FGWProblem(adata)\nfgwp = fgwp.prepare(key=\"batch\", joint_attr=\"X_pca\", GW_x=\"X_pca\", GW_y=\"X_pca\")"
      ]
    },
    {
      "cell_type": "markdown",
      "metadata": {},
      "source": [
        "The [:class:moscot.problems.base.OTProblem]{.title-ref} has attributes\n[:attr:moscot.problems.base.OTProblem.xy]{.title-ref},\n[:attr:moscot.problems.base.OTProblem.x]{.title-ref}, and\n[:attr:moscot.problems.base.OTProblem.y]{.title-ref}, storing the data\nfor the linear and quadratic terms, respectively. These attributes are\nall of type `moscot.solvers.TaggedArray`{.interpreted-text\nrole=\"class\"}.\n"
      ]
    },
    {
      "cell_type": "code",
      "execution_count": null,
      "metadata": {
        "collapsed": false
      },
      "outputs": [],
      "source": [
        "print(fgwp[\"0\", \"1\"].x)\nprint(fgwp[\"0\", \"1\"].y)\nprint(fgwp[\"0\", \"1\"].xy)\n\n\n# Each :class:`moscot.solvers.TaggedArray` has attributes\n# :attr:`moscot.solvers.TaggedArray.data_src`, :attr:`moscot.solvers.TaggedArray.data_tgt`,\n# :attr:`moscot.solvers.TaggedArray.cost`, and :attr:`moscot.solvers.TaggedArray.tag`.\n\nprint(fgwp[\"0\", \"1\"].xy.data_src)\nprint(fgwp[\"0\", \"1\"].xy.data_tgt)\nprint(fgwp[\"0\", \"1\"].xy.cost)\nprint(fgwp[\"0\", \"1\"].xy.tag)"
      ]
    },
    {
      "cell_type": "code",
      "execution_count": null,
      "metadata": {
        "collapsed": false
      },
      "outputs": [],
      "source": [
        "# The :attr:`moscot.solvers.TaggedArray.tag` is of type :class:`moscot.solvers.Tag` and\n# defines what kind of data is stored in the :class:`moscot.solvers.TaggedArray`.\n# Possible tags are \"cost_matrix\", \"kernel\", and \"point_cloud\". Whenever the `tag` is \"point_cloud\",\n# the backend is expted to compute the cost on the fly. Note that this often reduces\n# memory complexity from quadratic to linear and hence is advisable.\n# :attr:`moscot.solvers.TaggedArray.cost` should then specify which cost to compute from the\n# point clouds.\n#\n# If the :class:`moscot.solvers.TaggedArray` corresponds to a linear term,\n# :attr:`moscot.solvers.TaggedArray.data_src` and :attr:`moscot.solvers.TaggedArray.data_tgt`\n# contain the point clouds of the source and the target distribution, respectively.\n\nprint(type(fgwp[\"0\", \"1\"].xy.data_src))\nprint(type(fgwp[\"0\", \"1\"].xy.data_tgt))"
      ]
    },
    {
      "cell_type": "code",
      "execution_count": null,
      "metadata": {
        "collapsed": false
      },
      "outputs": [],
      "source": [
        "# If the :class:`moscot.solvers.TaggedArray` corresponds to a quadratic term, the cost\n# will be computed pairwise between points of the same distribution. Hence,\n# :attr:`moscot.solvers.TaggedArray.data_tgt` will be `None`.\n\nprint(type(fgwp[\"0\", \"1\"].x.data_src))\nprint(type(fgwp[\"0\", \"1\"].x.data_tgt))"
      ]
    },
    {
      "cell_type": "markdown",
      "metadata": {},
      "source": [
        "Whenever the [tag]{.title-ref} is \\\"cost\\_matrix\\\", the backend expects\nan instantiated cost matrix. There are two different cases to\ndistinguish. First, the user might directly want to pass custom cost\nmatrices, see for example\n`sphx_glr_auto_examples_problems_ex_passing_custom_cost_matrices.py`{.interpreted-text\nrole=\"ref\"}. In this case,\n`moscot.solvers.TaggedArray.cost`{.interpreted-text role=\"attr\"} must be\nset to [custom]{.title-ref}. When setting custom cost matrices, e.g. via\n`moscot.problems.base.OTProblem.set_xy`{.interpreted-text role=\"meth\"},\nthe `moscot.solvers.TaggedArray`{.interpreted-text role=\"class\"} will\nchange its `moscot.solvers.TaggedArray.tag`{.interpreted-text\nrole=\"attr\"}. Before setting the custom cost matrix we still have\n\\\"point\\_cloud\\\" as a tag and\n`moscot.solvers.TaggedArray.data_tgt`{.interpreted-text role=\"attr\"} is\nnot [None]{.title-ref}, as it contains the point cloud of the target\ndistribution.\n"
      ]
    },
    {
      "cell_type": "code",
      "execution_count": null,
      "metadata": {
        "collapsed": false
      },
      "outputs": [],
      "source": [
        "print(fgwp[\"0\", \"1\"].xy.tag)\nprint(type(fgwp[\"0\", \"1\"].xy.data_tgt))"
      ]
    },
    {
      "cell_type": "markdown",
      "metadata": {},
      "source": [
        "We now construct a (random) custom cost matrix for the linear term.\n"
      ]
    },
    {
      "cell_type": "code",
      "execution_count": null,
      "metadata": {
        "collapsed": false
      },
      "outputs": [],
      "source": [
        "obs_names_0 = fgwp[\"0\", \"1\"].adata_src.obs_names\nobs_names_1 = fgwp[\"0\", \"1\"].adata_tgt.obs_names\ncost_linear_01 = np.abs(rng.normal(size=(len(obs_names_0), len(obs_names_1))))\ncm_linear = pd.DataFrame(data=cost_linear_01, index=obs_names_0, columns=obs_names_1)\n\nfgwp[\"0\", \"1\"].set_xy(cm_linear, tag=\"cost_matrix\")\n\nprint(fgwp[\"0\", \"1\"].xy.tag)\nprint(type(fgwp[\"0\", \"1\"].xy.data_tgt))"
      ]
    },
    {
      "cell_type": "markdown",
      "metadata": {},
      "source": [
        "If the cost matrix is to be computed via a class in\n`moscot.costs`{.interpreted-text role=\"mod\"}, the\n`moscot.solvers.TaggedArray.cost`{.interpreted-text role=\"attr\"} must be\nset to the `str`{.interpreted-text role=\"obj\"}, see for example\n`sphx_glr_auto_examples_problems_ex_use_leaf_distance.py`{.interpreted-text\nrole=\"ref\"}.\n"
      ]
    }
  ],
  "metadata": {
    "kernelspec": {
      "display_name": "Python 3",
      "language": "python",
      "name": "python3"
    },
    "language_info": {
      "codemirror_mode": {
        "name": "ipython",
        "version": 3
      },
      "file_extension": ".py",
      "mimetype": "text/x-python",
      "name": "python",
      "nbconvert_exporter": "python",
      "pygments_lexer": "ipython3",
      "version": "3.9.15"
    }
  },
  "nbformat": 4,
  "nbformat_minor": 0
}