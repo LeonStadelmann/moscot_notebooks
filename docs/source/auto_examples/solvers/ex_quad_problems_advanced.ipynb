{
  "cells": [
    {
      "cell_type": "code",
      "execution_count": null,
      "metadata": {
        "collapsed": false
      },
      "outputs": [],
      "source": [
        "%matplotlib inline"
      ]
    },
    {
      "cell_type": "markdown",
      "metadata": {},
      "source": [
        "Solving quadratic problems - advanced\n=====================================\n\n::: {.seealso}\nSee\n`sphx_glr_auto_examples_solvers_ex_quad_problems_basic.py`{.interpreted-text\nrole=\"ref\"} for an introduction to solving quadratic problems. See\n`sphx_glr_auto_examples_solvers_ex_linear_problems_basic.py`{.interpreted-text\nrole=\"ref\"} for an introduction to solving linear problems. See\n`sphx_glr_auto_examples_solvers_ex_linear_problems_advanced.py`{.interpreted-text\nrole=\"ref\"} for an advanced example how to solve linear problems.\n:::\n"
      ]
    },
    {
      "cell_type": "code",
      "execution_count": null,
      "metadata": {
        "collapsed": false
      },
      "outputs": [],
      "source": [
        "from moscot.datasets import simulate_data\nfrom moscot.problems.generic import GWProblem"
      ]
    },
    {
      "cell_type": "markdown",
      "metadata": {},
      "source": [
        "This examples is a continuation of TODO reference and shows advanced\nexamples for how to solve quadratic problems, e.g. the\n`moscot.problems.time.LineageProblem`{.interpreted-text role=\"class\"},\nthe\n`moscot.problems.spatio_temporal.SpatioTemporalProblem`{.interpreted-text\nrole=\"class\"}, the\n`moscot.problems.space.MappingProblem`{.interpreted-text role=\"class\"},\nthe `moscot.problems.time.AlignmentProblem`{.interpreted-text\nrole=\"class\"}, the `moscot.problems.generic.GWProblem`{.interpreted-text\nrole=\"class\"}, and the the\n`moscot.problems.generic.FGWProblem`{.interpreted-text role=\"class\"}.\n"
      ]
    },
    {
      "cell_type": "code",
      "execution_count": null,
      "metadata": {
        "collapsed": false
      },
      "outputs": [],
      "source": [
        "import scanpy as sc\n\nadata = simulate_data(n_distributions=2, key=\"batch\", quad_term=\"spatial\")\nsc.pp.pca(adata)\ngwp = GWProblem(adata)\ngwp = gwp.prepare(key=\"batch\", GW_x={\"attr\": \"obsm\", \"key\": \"spatial\"}, GW_y={\"attr\": \"obsm\", \"key\": \"spatial\"})\nadata"
      ]
    },
    {
      "cell_type": "markdown",
      "metadata": {},
      "source": [
        "Threshold\n=========\n\nThe [threshold]{.title-ref} parameter defines the convergence criterion.\nIn the balanced setting the [threshold]{.title-ref} denotes the\ndeviation between prior and posterior marginals, while in the unbalanced\nsetting the [threshold]{.title-ref} corresponds to a Cauchy sequence\nstopping criterion.\n"
      ]
    },
    {
      "cell_type": "markdown",
      "metadata": {},
      "source": [
        "Initializers\n============\n\nDifferent Initializers can help to improve convergence. For the\nfull-rank case only the default initializer exists, hence the\n[initializer]{.title-ref} argument must be set to [None]{.title-ref}.\n\nFor low-rank problems the same initializers as for the linear low-rank\nsolvers are available, and [initializer\\_kwargs]{.title-ref} can be\npassed the same way, see TODO\n"
      ]
    },
    {
      "cell_type": "markdown",
      "metadata": {},
      "source": [
        "Number of iterations\n====================\n\nTo solve a quadratic Optimal Transport problem, a consecutively updated\nlinearized problem is solved [n\\_iterations]{.title-ref} time. Here,\n[min\\_iterations]{.title-ref} denotes a lower bound for\n[n\\_iterations]{.title-ref} and [max\\_iterations]{.title-ref} an upper\nbound. If [max\\_iterations]{.title-ref} is too low, the model might not\nconverge.\n"
      ]
    },
    {
      "cell_type": "code",
      "execution_count": null,
      "metadata": {
        "collapsed": false
      },
      "outputs": [],
      "source": [
        "gwp = gwp.solve(alpha=0.5, epsilon=1e-1, min_iterations=0, max_iterations=1)"
      ]
    },
    {
      "cell_type": "markdown",
      "metadata": {},
      "source": [
        "Iterations of the inner loop & linear solver keyword arguments\n==============================================================\n\nAs mentioned above, each outer loop step of the Gromov-Wasserstein\nalgorithm consists of solving a linear problem. Arguments for the linear\nsolver can be specified via [linear\\_solver\\_kwargs]{.title-ref},\nkeyword arguments for `ott.core.sinkhorn.Sinkhorn`{.interpreted-text\nrole=\"class\"} in the full-rank case or keyword arguments for\n`ott.core.sinkhorn_lr.LRSinkhorn`{.interpreted-text role=\"class\"},\nrespectively. This way, we can also set the minimum and maximum number\nof iterations for the linear solver:\n"
      ]
    },
    {
      "cell_type": "code",
      "execution_count": null,
      "metadata": {
        "collapsed": false
      },
      "outputs": [],
      "source": [
        "ls_kwargs = {\"min_iterations\": 10, \"max_iterations\": 1000, \"threshold\": 0.01}\ngwp = gwp.solve(\n    alpha=0.5, epsilon=1e-1, threshold=0.1, min_iterations=2, max_iterations=20, linear_solver_kwargs=ls_kwargs\n)"
      ]
    },
    {
      "cell_type": "markdown",
      "metadata": {},
      "source": [
        "Low rank hyperparameters\n========================\n\nThe parameters [gamma]{.title-ref} and [gamma\\_rescale]{.title-ref} are\nthe same as in the linear case, see example TODO. It remains to consider\n[ranks]{.title-ref} and [tolerances]{.title-ref}.\n"
      ]
    },
    {
      "cell_type": "markdown",
      "metadata": {},
      "source": [
        "Keyword arguments & Implementation details\n==========================================\n\nWhenever the [solve]{.title-ref} method of a quadratic problem is\ncalled, a backend-specific quadratic solver is instantiated. Currently,\n`ott`{.interpreted-text role=\"mod\"} is supported, its corresponding\nquadratic solvers is\n`ott.core.gromov_wasserstein.GromovWasserstein`{.interpreted-text\nrole=\"class\"}, handling both the full-rank and the low-rank case.\n`moscot`{.interpreted-text role=\"mod\"} wraps this class in\n`moscot.backends.ott.GWSolver`{.interpreted-text role=\"class\"} and\n`moscot.backends.ott.FGWSolver`{.interpreted-text role=\"class\"},\nhandling the purely quadratic and the fused quadratic problem,\nrespectively.\n"
      ]
    }
  ],
  "metadata": {
    "kernelspec": {
      "display_name": "Python 3",
      "language": "python",
      "name": "python3"
    },
    "language_info": {
      "codemirror_mode": {
        "name": "ipython",
        "version": 3
      },
      "file_extension": ".py",
      "mimetype": "text/x-python",
      "name": "python",
      "nbconvert_exporter": "python",
      "pygments_lexer": "ipython3",
      "version": "3.9.15"
    }
  },
  "nbformat": 4,
  "nbformat_minor": 0
}