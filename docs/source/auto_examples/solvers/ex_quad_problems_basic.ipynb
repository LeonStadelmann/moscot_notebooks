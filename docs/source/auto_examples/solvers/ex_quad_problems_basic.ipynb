{
  "cells": [
    {
      "cell_type": "code",
      "execution_count": null,
      "metadata": {
        "collapsed": false
      },
      "outputs": [],
      "source": [
        "%matplotlib inline"
      ]
    },
    {
      "cell_type": "markdown",
      "metadata": {},
      "source": [
        "Solving quadratic problems basic\n================================\n\n::: {.seealso}\nSee\n`sphx_glr_auto_examples_solvers_ex_quad_problems_advanced.py`{.interpreted-text\nrole=\"ref\"} for an advanced example how to solve quadratic problems. See\n`sphx_glr_auto_examples_solvers_ex_linear_problems_basic.py`{.interpreted-text\nrole=\"ref\"} for an introduction to solving linear problems. See\n`sphx_glr_auto_examples_solvers_ex_linear_problems_advanced.py`{.interpreted-text\nrole=\"ref\"} for an advanced example how to solve linear problems.\n:::\n"
      ]
    },
    {
      "cell_type": "markdown",
      "metadata": {},
      "source": [
        "This notebook elaborates on how to quadratic problems, e.g. the\n`moscot.problems.time.LineageProblem`{.interpreted-text role=\"class\"},\nthe\n`moscot.problems.spatio_temporal.SpatioTemporalProblem`{.interpreted-text\nrole=\"class\"}, the\n`moscot.problems.space.MappingProblem`{.interpreted-text role=\"class\"},\nthe `moscot.problems.time.AlignmentProblem`{.interpreted-text\nrole=\"class\"}, the `moscot.problems.generic.GWProblem`{.interpreted-text\nrole=\"class\"}, and the the\n`moscot.problems.generic.FGWProblem`{.interpreted-text role=\"class\"}.\n"
      ]
    },
    {
      "cell_type": "code",
      "execution_count": null,
      "metadata": {
        "collapsed": false
      },
      "outputs": [],
      "source": [
        "from moscot.datasets import simulate_data\nfrom moscot.problems.generic import GWProblem, FGWProblem\nimport scanpy as sc\n\nimport numpy as np\n\nadata = simulate_data(n_distributions=2, key=\"batch\", quad_term=\"spatial\")\nsc.pp.pca(adata)\nprint(adata)"
      ]
    },
    {
      "cell_type": "markdown",
      "metadata": {},
      "source": [
        "Basic parameters\n================\n\nThere are some parameters in quadratic problems which play the same role\nas in linear problems. Hence, we refer to TODO for the role of\n[epsilon]{.title-ref}, [tau\\_a]{.title-ref}, and [tau\\_b]{.title-ref}.\nIn fused quadratic problems (also referred to as Fused\nGromov-Wasserstein) there is an additional parameter [alpha]{.title-ref}\ndefining the convex combination between the quadratic and the linear\nterm. Setting [alpha=1]{.title-ref} only considers the quadratic term,\nwhile [alpha -\\> 0]{.title-ref} only considers the linear term. While\nchoosing [alpha=0]{.title-ref} is possible in fused quadratic problems,\nand corresponds to the pure quadratic problem, [alpha=0]{.title-ref} is\nnot possible, and hence linear problems must be chosen.\n"
      ]
    },
    {
      "cell_type": "code",
      "execution_count": null,
      "metadata": {
        "collapsed": false
      },
      "outputs": [],
      "source": [
        "gwp = GWProblem(adata)\ngwp = gwp.prepare(key=\"batch\", GW_x={\"attr\": \"obsm\", \"key\": \"spatial\"}, GW_y={\"attr\": \"obsm\", \"key\": \"spatial\"})\ngwp = gwp.solve(alpha=0, epsilon=1e-1)\n\nfgwp = FGWProblem(adata)\nfgwp = fgwp.prepare(\n    key=\"batch\", GW_x={\"attr\": \"obsm\", \"key\": \"spatial\"}, GW_y={\"attr\": \"obsm\", \"key\": \"spatial\"}, joint_attr=\"X_pca\"\n)\nfgwp = fgwp.solve(epsilon=1e-1)\n\nmax_difference = np.max(np.abs(gwp[\"0\", \"1\"].solution.transport_matrix - fgwp[\"0\", \"1\"].solution.transport_matrix))\nprint(f\"{max_difference:.6f}\")"
      ]
    },
    {
      "cell_type": "markdown",
      "metadata": {},
      "source": [
        "Low-rank solutions\n==================\n\nWhenever the dataset is very large, the computational complexity can be\nreduced by setting [rank]{.title-ref} to a positive integer\n(`scetbon:21a`{.interpreted-text role=\"cite\"}). In this case,\n[epsilon]{.title-ref} can also be set to 0, while only the balanced case\n([tau\\_a = tau\\_b = 1]{.title-ref}) is supported. Moreover, the data has\nto be provided as point clouds, i.e. no precomputed cost matrix can be\npassed.\n"
      ]
    },
    {
      "cell_type": "code",
      "execution_count": null,
      "metadata": {
        "collapsed": false
      },
      "outputs": [],
      "source": [
        "gwp = gwp.solve(epsilon=1e-2, rank=3)"
      ]
    },
    {
      "cell_type": "markdown",
      "metadata": {},
      "source": [
        "Scaling the cost\n================\n\n[scale\\_cost]{.title-ref} works the same way as for linear problems.\nNote that all cost terms will be scaled by the same argument.\n"
      ]
    }
  ],
  "metadata": {
    "kernelspec": {
      "display_name": "Python 3",
      "language": "python",
      "name": "python3"
    },
    "language_info": {
      "codemirror_mode": {
        "name": "ipython",
        "version": 3
      },
      "file_extension": ".py",
      "mimetype": "text/x-python",
      "name": "python",
      "nbconvert_exporter": "python",
      "pygments_lexer": "ipython3",
      "version": "3.9.15"
    }
  },
  "nbformat": 4,
  "nbformat_minor": 0
}