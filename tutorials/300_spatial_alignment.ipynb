{
 "cells": [
  {
   "cell_type": "markdown",
   "metadata": {},
   "source": [
    "# Alignment of spatial transcriptomics data\n",
    "\n",
    "This tutorial show how to use the {class}`~moscot.problems.space.AlignmentProblem` for aligning spatial transcriptomics data.\n",
    "\n",
    "When multiple spatial transcriptomics datasets are generated, it is desirable to integrate them and align them in the same coordinate system. {mod}`moscot` reimplements the method firstly introduced in *PASTE* {cite}`zeira:22`to align spatial transcriptomics data, integrating both gene expression and spatial similarity.\n",
    "\n",
    "For the purposes of this tutorial, we will show the application of the {class}`~moscot.problems.space.AlignmentProblem` on simulated data.\n",
    "\n",
    ":::{note}\n",
    "For this tutorial, [Squidpy](https://squidpy.readthedocs.io/en/latest/) is needed for spatial data plotting. You can either install it with:\n",
    "- `pip install squidpy` or\n",
    "- `pip install moscot[spatial]` as an optional dependency of {mod}`moscot`\n",
    ":::"
   ]
  },
  {
   "cell_type": "markdown",
   "metadata": {},
   "source": [
    "## Imports and data loading"
   ]
  },
  {
   "cell_type": "code",
   "execution_count": 1,
   "metadata": {},
   "outputs": [
    {
     "ename": "ModuleNotFoundError",
     "evalue": "No module named 'squidpy'",
     "output_type": "error",
     "traceback": [
      "\u001b[0;31m---------------------------------------------------------------------------\u001b[0m",
      "\u001b[0;31mModuleNotFoundError\u001b[0m                       Traceback (most recent call last)",
      "Cell \u001b[0;32mIn[1], line 1\u001b[0m\n\u001b[0;32m----> 1\u001b[0m \u001b[38;5;28;01mimport\u001b[39;00m \u001b[38;5;21;01msquidpy\u001b[39;00m \u001b[38;5;28;01mas\u001b[39;00m \u001b[38;5;21;01msq\u001b[39;00m\n\u001b[1;32m      2\u001b[0m \u001b[38;5;28;01mimport\u001b[39;00m \u001b[38;5;21;01mmoscot\u001b[39;00m \u001b[38;5;28;01mas\u001b[39;00m \u001b[38;5;21;01mmt\u001b[39;00m\n\u001b[1;32m      3\u001b[0m \u001b[38;5;28;01mimport\u001b[39;00m \u001b[38;5;21;01mscanpy\u001b[39;00m \u001b[38;5;28;01mas\u001b[39;00m \u001b[38;5;21;01msc\u001b[39;00m\n",
      "\u001b[0;31mModuleNotFoundError\u001b[0m: No module named 'squidpy'"
     ]
    }
   ],
   "source": [
    "import squidpy as sq\n",
    "import moscot as mt\n",
    "import scanpy as sc\n",
    "from moscot.problems.space import AlignmentProblem\n",
    "from moscot import datasets"
   ]
  },
  {
   "cell_type": "markdown",
   "metadata": {},
   "source": [
    "Simulate data using {func}`~moscot.datasets.simulate_data`."
   ]
  },
  {
   "cell_type": "code",
   "execution_count": null,
   "metadata": {},
   "outputs": [],
   "source": [
    "adata = datasets.sim_align()\n",
    "adata"
   ]
  },
  {
   "cell_type": "markdown",
   "metadata": {},
   "source": [
    "Let's take a look at the data by plotting couple of summary statistics. We can realize by plotting the data that it consists of 3 different slides (batches)."
   ]
  },
  {
   "cell_type": "code",
   "execution_count": null,
   "metadata": {
    "nbsphinx-thumbnail": {
     "output-index": 2,
     "tooltip": "Alignment of spatial transcriptomics data."
    }
   },
   "outputs": [],
   "source": [
    "print(\n",
    "    f\"The data consists of 3 slides with \"\n",
    "    f\"the same number of data points:\\n{adata.obs['batch'].value_counts()}\",\n",
    ")\n",
    "sq.pl.spatial_scatter(adata, shape=None, library_id=\"batch\", color=\"batch\")"
   ]
  },
  {
   "cell_type": "markdown",
   "metadata": {},
   "source": [
    "## Aligning spatial transcriptomics\n",
    "\n",
    "With {mod}`moscot`, it is possible to learn a cross-dataset mapping by leveraging Fused Gromov-Wasserstein (FGW) optimal transport {cite}`vayer:2018`. A basic description of the algorithm is the following:\n",
    "\n",
    "Given a set of observations that share some features in the metric space, and some other features in different metric spaces, the FGW method aims at finding the optimal matching between these two set of observations, based on both shared and unique features. In our case:\n",
    "\n",
    "- the \"shared\" metric space could be the one defined by a set of genes that is measured across spatial transcriptomics data. \n",
    "- the \"unique\" metric spaces are the spatial coordinates, which are unique for each single slide."
   ]
  },
  {
   "cell_type": "markdown",
   "metadata": {},
   "source": [
    "### Prepare the {class}`~moscot.problems.space.AlignmentProblem`\n",
    "\n",
    "The {class}`~moscot.problems.space.AlignmentProblem` exposes the FGW algorithm in a user-friendly API. First, we need to {meth}`~moscot.problems.space.AlignmentProblem.prepare` the problem. In this particular case, we need to pay attention to the `policy` parameter. The available policies are:\n",
    "\n",
    "- `'star'`: if we wish to align all slides to a reference slide.\n",
    "- `'sequential'` (default): if we wish to align each slide to the subsequent one, in case we have a sequence of slides.\n",
    "\n",
    "The choice of the policy varies with the use cases, for the sake of this tutorial we will showcase the `'sequential'` policy."
   ]
  },
  {
   "cell_type": "code",
   "execution_count": null,
   "metadata": {},
   "outputs": [],
   "source": [
    "ap = AlignmentProblem(adata=adata)\n",
    "ap = ap.prepare(batch_key=\"batch\", policy=\"sequential\")"
   ]
  },
  {
   "cell_type": "markdown",
   "metadata": {},
   "source": [
    "### Solve the {class}`~moscot.problems.space.AlignmentProblem`"
   ]
  },
  {
   "cell_type": "code",
   "execution_count": null,
   "metadata": {},
   "outputs": [],
   "source": [
    "ap = ap.solve()"
   ]
  },
  {
   "cell_type": "markdown",
   "metadata": {},
   "source": [
    "In the previous cells, we both prepared and solved the problems using the default arguments. However, it's important to take into consideration the `alpha` value, which balances the weight of each loss (\"unique\" vs. \"shared\" spaces). With alpha close to $0$, the \"shared\" space loss is weighted more, with alpha close to $1$, the \"unique\" space loss is balanced more. We suggest to try various values that might be more fitting to the specific use case."
   ]
  },
  {
   "cell_type": "markdown",
   "metadata": {},
   "source": [
    "## Analysis of the transport plans\n",
    "\n",
    "Solving the OT problem means that we computed the optimal transport plans between the various slides. We can now use it to align our datasets. There are two methods to perform the alignment:\n",
    "\n",
    "- `'warping'` (default): which warps the spatial coordinates of the source slide to the target slide.\n",
    "- `'affine'`: which computes the affine transformation from the transport map and simply shift and rotate the coordinates preserving the original space.\n",
    "\n",
    "Let's for instance warp the slides to a reference slide of choice. To do so, we need to pass as `reference` the key corresponding to the slide of choice. When using the {meth}`~moscot.problems.space.AlignmentProblem.align`, it modifies (by default) the input {class}`~anndata.AnnData` object in place by saving the transformed coordinates in a new {attr}`~anndata.AnnData.obsm` key."
   ]
  },
  {
   "cell_type": "markdown",
   "metadata": {},
   "source": [
    "### Warping alignment "
   ]
  },
  {
   "cell_type": "code",
   "execution_count": null,
   "metadata": {},
   "outputs": [],
   "source": [
    "ap.align(reference=\"2\")\n",
    "sq.pl.spatial_scatter(\n",
    "    adata, shape=None, spatial_key=\"spatial_warp\", library_id=\"batch\", color=\"batch\"\n",
    ")"
   ]
  },
  {
   "cell_type": "markdown",
   "metadata": {},
   "source": [
    "We can appreciate that the slides `'0'` and `'1'` have been warped to match the coordinate system of the slide `'2'`. Nevertheless, the results do not seem particularly good, since the points are scattered around. \n",
    "One explanation for this is that the gene expression variability is driving the computed transportation plan, and it might not be representative of the spatial structure of the data (a simple grid in this case). It should be noted that the 3 simulated slides have been generated with random gene expression data.\n",
    "\n",
    "Let's try to solve the problems again but this time with a higher alpha value in order to get a more coherent alignment."
   ]
  },
  {
   "cell_type": "code",
   "execution_count": null,
   "metadata": {},
   "outputs": [],
   "source": [
    "ap = ap.solve(alpha=0.9)\n",
    "ap.align(reference=\"2\")\n",
    "sq.pl.spatial_scatter(\n",
    "    adata, shape=None, spatial_key=\"spatial_warp\", library_id=\"batch\", color=\"batch\"\n",
    ")"
   ]
  },
  {
   "cell_type": "markdown",
   "metadata": {},
   "source": [
    "### Affine alignment\n",
    "\n",
    "Lastly, we will experiment with the `affine` alignment method and also change the reference slide to `'1'`."
   ]
  },
  {
   "cell_type": "code",
   "execution_count": null,
   "metadata": {},
   "outputs": [],
   "source": [
    "ap.align(reference=\"1\", mode=\"affine\")\n",
    "sq.pl.spatial_scatter(\n",
    "    adata, shape=None, spatial_key=\"spatial_affine\", library_id=\"batch\", color=\"batch\"\n",
    ")"
   ]
  },
  {
   "cell_type": "markdown",
   "metadata": {},
   "source": [
    "We can appreciate how the slides have now been projected on the same reference coordinates of slide `'1'` yet without warping the original space. We can also plot the original space to appreciate the result."
   ]
  },
  {
   "cell_type": "code",
   "execution_count": null,
   "metadata": {},
   "outputs": [],
   "source": [
    "sq.pl.spatial_scatter(adata, shape=None, library_id=\"batch\", color=\"batch\")"
   ]
  }
 ],
 "metadata": {
  "kernelspec": {
   "display_name": "moscot",
   "language": "python",
   "name": "moscot"
  },
  "language_info": {
   "codemirror_mode": {
    "name": "ipython",
    "version": 3
   },
   "file_extension": ".py",
   "mimetype": "text/x-python",
   "name": "python",
   "nbconvert_exporter": "python",
   "pygments_lexer": "ipython3",
   "version": "3.10.9"
  },
  "vscode": {
   "interpreter": {
    "hash": "41c8839adae5b5ee2875f3749e57fa70090162e39ac34233465e79e3879f43a4"
   }
  }
 },
 "nbformat": 4,
 "nbformat_minor": 4
}
