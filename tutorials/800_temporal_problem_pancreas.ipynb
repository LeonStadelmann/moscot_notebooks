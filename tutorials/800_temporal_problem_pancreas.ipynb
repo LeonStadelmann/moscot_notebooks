{
 "cells": [
  {
   "cell_type": "markdown",
   "id": "d1c5bd16-b817-4270-b127-a1287337ff6e",
   "metadata": {},
   "source": [
    "# Disentangling lineage relationships of delta and epsilon cells in pancreatic development with the {class}`~moscot.problems.time.TemporalProblem`\n",
    "\n",
    "In this tutorial, we showcase ???. The method builds upon {cite}`klein:23`.\n",
    "\n",
    "\n",
    ":::{seealso}\n",
    "- See {doc}`500_spatiotemporal` on how to incorporate spatial information as additional prior.\n",
    "- See {doc}`100_lineage` on how to incorporate lineage information as additional prior. \n",
    ":::"
   ]
  },
  {
   "cell_type": "code",
   "execution_count": 1,
   "id": "05fbec03-0088-4e9e-a439-cc1ebc9a97a8",
   "metadata": {},
   "outputs": [
    {
     "name": "stdout",
     "output_type": "stream",
     "text": [
      "['default', 'despine']\n"
     ]
    }
   ],
   "source": [
    "import os\n",
    "\n",
    "import moscot as mt\n",
    "import moscot.plotting as mpl\n",
    "from moscot.problems.time import TemporalProblem\n",
    "\n",
    "import numpy as np\n",
    "import pandas as pd\n",
    "\n",
    "import matplotlib.pyplot as plt\n",
    "import seaborn as sns\n",
    "\n",
    "import scanpy as sc\n",
    "\n",
    "# import muon\n",
    "sc.set_figure_params(scanpy=True, dpi=80, dpi_save=200)\n",
    "\n",
    "import mplscience\n",
    "\n",
    "import jax\n",
    "\n",
    "mplscience.available_styles()\n",
    "mplscience.set_style(reset_current=True)\n",
    "plt.rcParams[\"legend.scatterpoints\"] = 1"
   ]
  },
  {
   "cell_type": "code",
   "execution_count": 2,
   "id": "3298994c-1026-4154-ab50-54128bf0d4a7",
   "metadata": {},
   "outputs": [],
   "source": [
    "adata = mt.datasets.pancreas_multiome(rna_only=True)"
   ]
  },
  {
   "cell_type": "code",
   "execution_count": 3,
   "id": "8eb2526a-bbe5-4e76-a228-48157bb07ace",
   "metadata": {},
   "outputs": [],
   "source": [
    "# mudata = mt.datasets.pancreas_multiome(rna_only=False)"
   ]
  },
  {
   "cell_type": "code",
   "execution_count": 4,
   "id": "f6b85c63-31e8-409f-a2ce-abf1f609bd30",
   "metadata": {},
   "outputs": [],
   "source": [
    "endocrine_celltypes = [\n",
    "    \"Ngn3 low\",\n",
    "    \"Ngn3 high\",\n",
    "    \"Ngn3 high cycling\",\n",
    "    \"Fev+\",\n",
    "    \"Fev+ Alpha\",\n",
    "    \"Fev+ Beta\",\n",
    "    \"Fev+ Delta\",\n",
    "    \"Eps. progenitors\",\n",
    "    \"Alpha\",\n",
    "    \"Beta\",\n",
    "    \"Delta\",\n",
    "    \"Epsilon\",\n",
    "]"
   ]
  },
  {
   "cell_type": "code",
   "execution_count": 5,
   "id": "c20e9d49-2e00-41aa-969e-5c3f53dab274",
   "metadata": {},
   "outputs": [],
   "source": [
    "adata = adata[adata.obs[\"cell_type\"].isin(endocrine_celltypes)].copy()"
   ]
  },
  {
   "cell_type": "code",
   "execution_count": 6,
   "id": "7f8de78a-10b9-4f96-9bcb-b2a8c1fea546",
   "metadata": {},
   "outputs": [],
   "source": [
    "def adapt_time(x):\n",
    "    if x[\"stage\"] == \"E14.5\":\n",
    "        return 14.5\n",
    "    if x[\"stage\"] == \"E15.5\":\n",
    "        return 15.5\n",
    "    if x[\"stage\"] == \"E16.5\":\n",
    "        return 16.5\n",
    "    raise ValueError\n",
    "\n",
    "\n",
    "adata.obs[\"time\"] = adata.obs.apply(adapt_time, axis=1).astype(\"category\")"
   ]
  },
  {
   "cell_type": "code",
   "execution_count": 7,
   "id": "551a9681-5a71-4820-ae87-896f0029aa45",
   "metadata": {},
   "outputs": [
    {
     "name": "stderr",
     "output_type": "stream",
     "text": [
      "/home/leon/miniconda3/envs/moscot/lib/python3.9/site-packages/tqdm/auto.py:21: TqdmWarning: IProgress not found. Please update jupyter and ipywidgets. See https://ipywidgets.readthedocs.io/en/stable/user_install.html\n",
      "  from .autonotebook import tqdm as notebook_tqdm\n"
     ]
    }
   ],
   "source": [
    "import networkx as nx\n",
    "\n",
    "dfs = {}\n",
    "batch_column = \"time\"\n",
    "unique_batches = [14.5, 15.5, 16.5]\n",
    "for i in range(len(unique_batches) - 1):\n",
    "    batch1 = unique_batches[i]\n",
    "    batch2 = unique_batches[i + 1]\n",
    "\n",
    "    indices = np.where(\n",
    "        (adata.obs[batch_column] == batch1) | (adata.obs[batch_column] == batch2)\n",
    "    )[0]\n",
    "    adata_subset = adata[indices]\n",
    "    sc.pp.neighbors(adata_subset, use_rep=\"X_MultiVI\", n_neighbors=30)\n",
    "    G = nx.from_numpy_array(adata_subset.obsp[\"connectivities\"].A)\n",
    "    assert nx.is_connected(G)\n",
    "\n",
    "    dfs[(batch1, batch2)] = pd.DataFrame(\n",
    "        index=adata_subset.obs_names,\n",
    "        columns=adata_subset.obs_names,\n",
    "        data=adata_subset.obsp[\"connectivities\"].A.astype(\"float\"),\n",
    "    )"
   ]
  },
  {
   "cell_type": "code",
   "execution_count": 8,
   "id": "97985b5d-34ba-46d2-a443-dc26b8099003",
   "metadata": {},
   "outputs": [],
   "source": [
    "tp0 = TemporalProblem(adata)\n",
    "tp0 = tp0.prepare(\"time\", joint_attr=\"X_MultiVI\")"
   ]
  },
  {
   "cell_type": "code",
   "execution_count": 9,
   "id": "842d2499-a3c0-415e-8c1a-f3cb20fcdd3f",
   "metadata": {},
   "outputs": [],
   "source": [
    "tp0[14.5, 15.5].set_graph_xy((dfs[14.5, 15.5]).astype(\"float\"), t=100.0)\n",
    "tp0[15.5, 16.5].set_graph_xy((dfs[15.5, 16.5]).astype(\"float\"), t=100.0)"
   ]
  },
  {
   "cell_type": "code",
   "execution_count": null,
   "id": "d6659675-ce4c-45d5-b24b-0fc5979f2daf",
   "metadata": {},
   "outputs": [
    {
     "name": "stdout",
     "output_type": "stream",
     "text": [
      "\u001b[34mINFO    \u001b[0m Solving `\u001b[1;36m2\u001b[0m` problems                                                                                      \n",
      "\u001b[34mINFO    \u001b[0m Solving problem BirthDeathProblem\u001b[1m[\u001b[0m\u001b[33mstage\u001b[0m=\u001b[32m'prepared'\u001b[0m, \u001b[33mshape\u001b[0m=\u001b[1m(\u001b[0m\u001b[1;36m5185\u001b[0m, \u001b[1;36m1699\u001b[0m\u001b[1m)\u001b[0m\u001b[1m]\u001b[0m.                                  \n"
     ]
    }
   ],
   "source": [
    "tp0 = tp0.solve(max_iterations=5, device=\"CPU\")"
   ]
  },
  {
   "cell_type": "code",
   "execution_count": null,
   "id": "9e4cfd69-e081-43e7-ab48-abe0efd28336",
   "metadata": {},
   "outputs": [],
   "source": []
  },
  {
   "cell_type": "code",
   "execution_count": null,
   "id": "d7978b33-096c-4811-a60d-82cabff76595",
   "metadata": {},
   "outputs": [],
   "source": []
  }
 ],
 "metadata": {
  "kernelspec": {
   "display_name": "Python 3 (ipykernel)",
   "language": "python",
   "name": "python3"
  },
  "language_info": {
   "codemirror_mode": {
    "name": "ipython",
    "version": 3
   },
   "file_extension": ".py",
   "mimetype": "text/x-python",
   "name": "python",
   "nbconvert_exporter": "python",
   "pygments_lexer": "ipython3",
   "version": "3.9.19"
  }
 },
 "nbformat": 4,
 "nbformat_minor": 5
}
