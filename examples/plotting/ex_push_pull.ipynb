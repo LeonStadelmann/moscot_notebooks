{
 "cells": [
  {
   "cell_type": "code",
   "execution_count": null,
   "id": "dc2aca0d",
   "metadata": {},
   "outputs": [],
   "source": [
    "%matplotlib inline"
   ]
  },
  {
   "cell_type": "markdown",
   "id": "171f08be",
   "metadata": {
    "cell_marker": "\"\"\""
   },
   "source": [
    "Plotting pull or push distributions\n",
    "-----------------------------------"
   ]
  },
  {
   "cell_type": "markdown",
   "id": "48b63ee5",
   "metadata": {},
   "source": [
    "In this notebook, we will showcase how to use :meth:`moscot.plotting.push` and\n",
    "its counterpart :meth:`moscot.plotting.pull`.\n",
    "These visualization functions are only implemented for non-spatial problems.\n",
    "To see how pullback or push forward cell distributions can be visualized for\n",
    "problems incorporating spatial information, please have a look at the tutorials.\n",
    "Here, we use the HSPC dataset to demonstrate the usage of :meth:`moscot.plotting.push` and\n",
    ":meth:`moscot.plotting.pull` with the :class:`moscot.problems.time.TemporalProblem`.\n",
    "In this context, the pull-back distribution corresponds to the set of ancestor cells, while\n",
    "the push-forward distribution corresponds to the set of descending cells."
   ]
  },
  {
   "cell_type": "code",
   "execution_count": null,
   "id": "cf49bb04",
   "metadata": {},
   "outputs": [],
   "source": [
    "from moscot.datasets import hspc\n",
    "from moscot.problems.time import TemporalProblem\n",
    "import moscot.plotting as mpl\n",
    "\n",
    "adata = hspc()"
   ]
  },
  {
   "cell_type": "markdown",
   "id": "b91d6e37",
   "metadata": {},
   "source": [
    "First, we need to prepare and solve the problem. Here, we set the `threshold`\n",
    "parameter to a relative high value to speed up convergence at the cost of\n",
    "lower quality."
   ]
  },
  {
   "cell_type": "code",
   "execution_count": null,
   "id": "6192ed06",
   "metadata": {},
   "outputs": [],
   "source": [
    "tp = TemporalProblem(adata).prepare(time_key=\"day\").solve(epsilon=1e-2, threshold=1e-2)"
   ]
  },
  {
   "cell_type": "markdown",
   "id": "b022d322",
   "metadata": {
    "lines_to_next_cell": 0
   },
   "source": [
    "As for all plotting functionalities in moscot, we first call the method of\n",
    "the problem class, which stores the results of the computation in the\n",
    ":class:`anndata.AnnData` instance. Let us assume we look for the descendants\n",
    "of cells of time point 4 in time point 7. We can specify whether we want to\n",
    "return the result via the `return_data` parameter."
   ]
  },
  {
   "cell_type": "code",
   "execution_count": null,
   "id": "3cc629be",
   "metadata": {},
   "outputs": [],
   "source": [
    "tp.push(start=4, end=7, return_data=False)"
   ]
  },
  {
   "cell_type": "markdown",
   "id": "c9de0e47",
   "metadata": {},
   "source": [
    "We can now visualize the result. As we have multiple time points in the UMAP\n",
    "embedding, it is best to visualize in one plot all the cells corresponding to\n",
    "time point 4, and then the ones corresponding to the descending cells.\n",
    "As the :class:`anndata.AnnData` instance contains UMAP embeddings for both\n",
    "gene expression and ATAC, we need to define which one to use via `basis`."
   ]
  },
  {
   "cell_type": "code",
   "execution_count": null,
   "id": "b3024d67",
   "metadata": {},
   "outputs": [],
   "source": [
    "mpl.push(tp, time_points=[4], basis=\"umap_GEX\")\n",
    "mpl.push(tp, time_points=[7], basis=\"umap_GEX\")"
   ]
  },
  {
   "cell_type": "markdown",
   "id": "3e6858b2",
   "metadata": {},
   "source": [
    "By default, the result of the `push` method of a problem instance is saved\n",
    "`anndata.AnnData.uns['moscot_results']['push']['push'] and overrides\n",
    "this element every time the method is called. To prevent this, we can specify the parameter\n",
    "`key_added`, which we will do to store the results of the following use case."
   ]
  },
  {
   "cell_type": "markdown",
   "id": "c7944766",
   "metadata": {
    "lines_to_next_cell": 0
   },
   "source": [
    "We can also visualize the descendants of only a subset of categories of an\n",
    ":attr:`anndata.AnnData.obs` column\n",
    "by specifying the `data` and the `subset` parameter."
   ]
  },
  {
   "cell_type": "code",
   "execution_count": null,
   "id": "443f76ca",
   "metadata": {},
   "outputs": [],
   "source": [
    "new_key = \"subset_push\"\n",
    "tp.push(start=4, end=7, data=\"cell_type\", subset=\"HSC\", return_data=False, key_added=new_key)\n",
    "mpl.push(tp, time_points=[4], uns_key=new_key, basis=\"umap_GEX\")\n",
    "mpl.push(tp, time_points=[7], uns_key=new_key, basis=\"umap_GEX\")"
   ]
  }
 ],
 "metadata": {
  "jupytext": {
   "cell_metadata_filter": "-all",
   "executable": "/usr/bin/env python",
   "main_language": "python",
   "notebook_metadata_filter": "-all"
  }
 },
 "nbformat": 4,
 "nbformat_minor": 5
}
