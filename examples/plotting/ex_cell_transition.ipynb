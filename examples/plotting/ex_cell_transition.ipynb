{
 "cells": [
  {
   "cell_type": "code",
   "execution_count": null,
   "id": "ae8d617a",
   "metadata": {},
   "outputs": [],
   "source": [
    "%matplotlib inline"
   ]
  },
  {
   "cell_type": "markdown",
   "id": "04dda07b",
   "metadata": {
    "cell_marker": "\"\"\""
   },
   "source": [
    "Plotting cell transitions\n",
    "-------------------------"
   ]
  },
  {
   "cell_type": "markdown",
   "id": "a9063a13",
   "metadata": {},
   "source": [
    "In this notebook, we will showcase how to use :meth:`moscot.plotting.cell_transition`.\n",
    "We use the HSPC dataset to demonstrate the usage."
   ]
  },
  {
   "cell_type": "code",
   "execution_count": null,
   "id": "c0c9675d",
   "metadata": {},
   "outputs": [],
   "source": [
    "from moscot.datasets import hspc\n",
    "from moscot.problems.time import TemporalProblem\n",
    "import moscot.plotting as mpl\n",
    "\n",
    "adata = hspc()"
   ]
  },
  {
   "cell_type": "markdown",
   "id": "c4c3a847",
   "metadata": {},
   "source": [
    "First, we need to prepare and solve the problem. Here, we set the `threshold`\n",
    "parameter to a relative high value to speed up convergence at the cost of\n",
    "lower quality."
   ]
  },
  {
   "cell_type": "code",
   "execution_count": null,
   "id": "9f8ed6f9",
   "metadata": {},
   "outputs": [],
   "source": [
    "tp = TemporalProblem(adata).prepare(time_key=\"day\").solve(epsilon=1e-2, threshold=1e-2)"
   ]
  },
  {
   "cell_type": "markdown",
   "id": "357f1535",
   "metadata": {},
   "source": [
    "As for all plotting functionalities in moscot, we first call the method of\n",
    "the problem class, which stores the results of the computation in the\n",
    ":class:`anndata.AnnData` instance. Let us assume we want to plot the cell transition\n",
    "between time point 4 and time point 7. Moreover, we want the rows and columns\n",
    "of our transition matrix to represent cell types. In general, we can aggregate\n",
    "by any column in :attr:`anndata.AnnData.obs` via the `source_groups` parameter and\n",
    "the `target_groups` parameter, respectively. Moreover, we are interested in\n",
    "descendants as opposed to ancestors, which is why we choose `forward` to be `True`."
   ]
  },
  {
   "cell_type": "code",
   "execution_count": null,
   "id": "f3dda43e",
   "metadata": {},
   "outputs": [],
   "source": [
    "cell_transition = tp.cell_transition(\n",
    "    source=4, target=7, source_groups=\"cell_type\", target_groups=\"cell_type\", forward=True\n",
    ")"
   ]
  },
  {
   "cell_type": "markdown",
   "id": "4e0ca651",
   "metadata": {},
   "source": [
    "`cell_transition` is a data frame containing all the information needed, we now\n",
    "want to nicely visualize the result with :meth:`moscot.plotting.cell_transition`.\n",
    "Therefore, we can either pass the :class:`anndata.AnnData` instance or the problem\n",
    "instance. Depending on the size of our transition matrix, we might want to adapt the\n",
    "`dpi` parameter and the `fontsize` parameter. If we don't want to plot the values of\n",
    "the transition, e.g. because the transition matrix is very large, we can simply set\n",
    "the `annotation` parameter to `False`."
   ]
  },
  {
   "cell_type": "code",
   "execution_count": null,
   "id": "3f3f87cd",
   "metadata": {},
   "outputs": [],
   "source": [
    "mpl.cell_transition(tp, dpi=100, fontsize=10)"
   ]
  },
  {
   "cell_type": "markdown",
   "id": "fe28efe9",
   "metadata": {},
   "source": [
    "By default, the result of the `cell_transition` method of a problem instance is saved\n",
    "`anndata.AnnData.uns['moscot_results']['cell_transition']['cell_transition'] and overrides\n",
    "this element every time the method is called. To prevent this, we can specify the parameter\n",
    "`key_added`, which we will do to store the results of the following use case."
   ]
  },
  {
   "cell_type": "markdown",
   "id": "9ce97d70",
   "metadata": {
    "lines_to_next_cell": 0
   },
   "source": [
    "We can also visualize transitions of only a subset of categories of an :attr:`anndata.AnnData.obs` column\n",
    "by passing a dictionary for `source_groups` or `target_groups`. Moreover, passing\n",
    "a dictionary also allows to specify the order of the `source_groups` and `target_groups`,\n",
    "respectively."
   ]
  },
  {
   "cell_type": "code",
   "execution_count": null,
   "id": "21304de3",
   "metadata": {},
   "outputs": [],
   "source": [
    "new_key = \"subset_cell_transition\"\n",
    "tp.cell_transition(\n",
    "    source=4,\n",
    "    target=7,\n",
    "    source_groups={\"cell_type\": [\"HSC\", \"MasP\", \"MkP\", \"NeuP\"]},\n",
    "    target_groups={\"cell_type\": [\"MasP\", \"MkP\", \"BP\"]},\n",
    "    forward=True,\n",
    "    key_added=new_key,\n",
    ")\n",
    "mpl.cell_transition(tp, dpi=100, fontsize=10, uns_key=new_key)"
   ]
  }
 ],
 "metadata": {
  "jupytext": {
   "cell_metadata_filter": "-all",
   "executable": "/usr/bin/env python",
   "main_language": "python",
   "notebook_metadata_filter": "-all"
  }
 },
 "nbformat": 4,
 "nbformat_minor": 5
}
