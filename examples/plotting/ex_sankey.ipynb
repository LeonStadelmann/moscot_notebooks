{
 "cells": [
  {
   "cell_type": "code",
   "execution_count": null,
   "id": "09b84d28",
   "metadata": {},
   "outputs": [],
   "source": [
    "%matplotlib inline"
   ]
  },
  {
   "cell_type": "markdown",
   "id": "1d03e9cb",
   "metadata": {
    "cell_marker": "\"\"\""
   },
   "source": [
    "Plotting Sankey diagrams\n",
    "------------------------"
   ]
  },
  {
   "cell_type": "markdown",
   "id": "132ddfff",
   "metadata": {},
   "source": [
    "In this notebook, we will showcase how to use :meth:`moscot.plotting.sankey`.\n",
    "We use the HSPC dataset to demonstrate the usage."
   ]
  },
  {
   "cell_type": "code",
   "execution_count": null,
   "id": "efbf9aa9",
   "metadata": {},
   "outputs": [],
   "source": [
    "from moscot.datasets import hspc\n",
    "from moscot.problems.time import TemporalProblem\n",
    "import moscot.plotting as mpl\n",
    "\n",
    "adata = hspc()"
   ]
  },
  {
   "cell_type": "markdown",
   "id": "723a40c9",
   "metadata": {},
   "source": [
    "First, we need to prepare and solve the problem. Here, we set the `threshold`\n",
    "parameter to a relative high value to speed up convergence at the cost of\n",
    "lower quality."
   ]
  },
  {
   "cell_type": "code",
   "execution_count": null,
   "id": "74b6f403",
   "metadata": {},
   "outputs": [],
   "source": [
    "tp = TemporalProblem(adata).prepare(time_key=\"day\").solve(epsilon=1e-2, threshold=1e-2)"
   ]
  },
  {
   "cell_type": "markdown",
   "id": "c0d5b9cc",
   "metadata": {},
   "source": [
    "As for all plotting functionalities in moscot, we first call the method of\n",
    "the problem class, which stores the results of the computation in the\n",
    ":class:`anndata.AnnData` instance. Let us assume we want to plot the Sankey diagram\n",
    "across all time points 2, 3, 4, and 7. Moreover, we want the Sankey diagram\n",
    "to visualize flows between cell types. In general, we can visualize the flow defined\n",
    "by any column in :attr:`anndata.AnnData.obs` via the `source_groups` parameter and\n",
    "the `target_groups` parameter, respectively. In this example, we are interested in\n",
    "descendants as opposed to ancestors, which is why we choose `forward` to be `True`.\n",
    "The information required to plot the Sankey diagram is provided in transition matrices,\n",
    "which we would obtain by `return_data` to `True`. Here, we are only interested in the\n",
    "visualization."
   ]
  },
  {
   "cell_type": "code",
   "execution_count": null,
   "id": "03347f11",
   "metadata": {},
   "outputs": [],
   "source": [
    "tp.sankey(source=2, target=7, source_groups=\"cell_type\", target_groups=\"cell_type\", forward=True, return_data=False)"
   ]
  },
  {
   "cell_type": "markdown",
   "id": "3a96ca8f",
   "metadata": {},
   "source": [
    "Having called the `sankey` method of the problem instance, we now pass the result\n",
    "to the :mod:`moscot.plotting` module.\n",
    "Therefore, we can either pass the :class:`anndata.AnnData` instance or the problem\n",
    "instance. We can set the size of the figure via `dpi` and set a title via `title`."
   ]
  },
  {
   "cell_type": "code",
   "execution_count": null,
   "id": "8d796b4a",
   "metadata": {},
   "outputs": [],
   "source": [
    "mpl.sankey(tp, dpi=100, title=\"Cell type evolution over time\")"
   ]
  },
  {
   "cell_type": "markdown",
   "id": "64edf56e",
   "metadata": {},
   "source": [
    "By default, the result of the `sankey` method of a problem instance is saved\n",
    "`anndata.AnnData.uns['moscot_results']['sankey']['sankey'] and overrides\n",
    "this element every time the method is called. To prevent this, we can specify the parameter\n",
    "`key_added`, which we will do to store the results of the following use case."
   ]
  },
  {
   "cell_type": "markdown",
   "id": "9a0dca42",
   "metadata": {
    "lines_to_next_cell": 0
   },
   "source": [
    "We can also visualize flows of only a subset of categories of an :attr:`anndata.AnnData.obs` column\n",
    "by passing a dictionary for `source_groups` or `target_groups`."
   ]
  },
  {
   "cell_type": "code",
   "execution_count": null,
   "id": "ede8ec51",
   "metadata": {},
   "outputs": [],
   "source": [
    "new_key = \"subset_sankey\"\n",
    "tp.sankey(\n",
    "    source=2,\n",
    "    target=7,\n",
    "    source_groups={\"cell_type\": [\"HSC\", \"MasP\", \"MkP\"]},\n",
    "    target_groups={\"cell_type\": [\"HSC\", \"MasP\", \"MkP\"]},\n",
    "    forward=True,\n",
    "    return_data=False,\n",
    "    key_added=new_key,\n",
    ")\n",
    "mpl.sankey(tp, dpi=100, title=\"Cell type evolution over time\", uns_key=new_key)"
   ]
  }
 ],
 "metadata": {
  "jupytext": {
   "cell_metadata_filter": "-all",
   "executable": "/usr/bin/env python",
   "main_language": "python",
   "notebook_metadata_filter": "-all"
  }
 },
 "nbformat": 4,
 "nbformat_minor": 5
}
