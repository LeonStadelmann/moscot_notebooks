{
 "cells": [
  {
   "cell_type": "code",
   "execution_count": null,
   "id": "b3ef8604",
   "metadata": {},
   "outputs": [],
   "source": [
    "%matplotlib inline"
   ]
  },
  {
   "cell_type": "markdown",
   "id": "8b788a7c",
   "metadata": {
    "cell_marker": "\"\"\""
   },
   "source": [
    "Solving quadratic problems - advanced\n",
    "-------------------------------------\n",
    "\n",
    ".. seealso::\n",
    "    See :ref:`sphx_glr_auto_examples_solvers_ex_quad_problems_basic.py` for an introduction\n",
    "    to solving quadratic problems.\n",
    "    See :ref:`sphx_glr_auto_examples_solvers_ex_linear_problems_basic.py` for an introduction\n",
    "    to solving linear problems.\n",
    "    See :ref:`sphx_glr_auto_examples_solvers_ex_linear_problems_advanced.py` for an advanced\n",
    "    example how to solve linear problems."
   ]
  },
  {
   "cell_type": "code",
   "execution_count": null,
   "id": "12371ed2",
   "metadata": {},
   "outputs": [],
   "source": [
    "from moscot.datasets import simulate_data\n",
    "from moscot.problems.generic import GWProblem"
   ]
  },
  {
   "cell_type": "markdown",
   "id": "79cad50a",
   "metadata": {
    "lines_to_next_cell": 0
   },
   "source": [
    "This examples is a continuation of TODO reference and shows advanced examples\n",
    "for how to solve quadratic problems,\n",
    "e.g. the\n",
    ":class:`moscot.problems.time.LineageProblem`,\n",
    "the :class:`moscot.problems.spatio_temporal.SpatioTemporalProblem`,\n",
    "the :class:`moscot.problems.space.MappingProblem`,\n",
    "the :class:`moscot.problems.time.AlignmentProblem`,\n",
    "the :class:`moscot.problems.generic.GWProblem`,\n",
    "and the the :class:`moscot.problems.generic.FGWProblem`."
   ]
  },
  {
   "cell_type": "code",
   "execution_count": null,
   "id": "c199511a",
   "metadata": {},
   "outputs": [],
   "source": [
    "import scanpy as sc\n",
    "\n",
    "adata = simulate_data(n_distributions=2, key=\"batch\", quad_term=\"spatial\")\n",
    "sc.pp.pca(adata)\n",
    "gwp = GWProblem(adata)\n",
    "gwp = gwp.prepare(key=\"batch\", GW_x={\"attr\": \"obsm\", \"key\": \"spatial\"}, GW_y={\"attr\": \"obsm\", \"key\": \"spatial\"})\n",
    "adata"
   ]
  },
  {
   "cell_type": "markdown",
   "id": "de9753a3",
   "metadata": {},
   "source": [
    "Threshold\n",
    "~~~~~~~~~\n",
    "The `threshold` parameter defines the convergence criterion. In the balanced\n",
    "setting the `threshold` denotes the deviation between prior and posterior\n",
    "marginals, while in the unbalanced setting the `threshold` corresponds to\n",
    "a Cauchy sequence stopping criterion."
   ]
  },
  {
   "cell_type": "code",
   "execution_count": null,
   "id": "6a437dac",
   "metadata": {},
   "outputs": [],
   "source": []
  },
  {
   "cell_type": "markdown",
   "id": "f21fc477",
   "metadata": {},
   "source": [
    "Initializers\n",
    "~~~~~~~~~~~~\n",
    "Different Initializers can help to improve convergence. For the full-rank\n",
    "case only the default initializer exists, hence the `initializer` argument\n",
    "must be set to `None`.\n",
    "\n",
    "For low-rank problems the same initializers as for the linear low-rank solvers\n",
    "are available, and `initializer_kwargs` can be passed the same way, see TODO"
   ]
  },
  {
   "cell_type": "markdown",
   "id": "c8fa54a9",
   "metadata": {
    "lines_to_next_cell": 0
   },
   "source": [
    "Number of iterations\n",
    "~~~~~~~~~~~~~~~~~~~~\n",
    "To solve a quadratic Optimal Transport problem, a consecutively updated linearized\n",
    "problem is solved `n_iterations` time. Here, `min_iterations` denotes a lower bound\n",
    "for `n_iterations` and `max_iterations` an upper bound. If `max_iterations` is too\n",
    "low, the model might not converge."
   ]
  },
  {
   "cell_type": "code",
   "execution_count": null,
   "id": "bb284ff0",
   "metadata": {},
   "outputs": [],
   "source": [
    "gwp = gwp.solve(alpha=0.5, epsilon=1e-1, min_iterations=0, max_iterations=1)"
   ]
  },
  {
   "cell_type": "markdown",
   "id": "4b11bd89",
   "metadata": {
    "lines_to_next_cell": 0
   },
   "source": [
    "Iterations of the inner loop & linear solver keyword arguments\n",
    "~~~~~~~~~~~~~~~~~~~~~~~~~~~~~~~~~~~~~~~~~~~~~~~~~~~~~~~~~~~~~~\n",
    "As mentioned above, each outer loop step of the Gromov-Wasserstein algorithm\n",
    "consists of solving a linear problem. Arguments for the linear solver can\n",
    "be specified via `linear_solver_kwargs`, keyword arguments for\n",
    ":class:`ott.core.sinkhorn.Sinkhorn` in the full-rank case or keyword arguments\n",
    "for :class:`ott.core.sinkhorn_lr.LRSinkhorn`, respectively. This way, we can\n",
    "also set the minimum and maximum number of iterations for the linear solver:"
   ]
  },
  {
   "cell_type": "code",
   "execution_count": null,
   "id": "2e461ea7",
   "metadata": {},
   "outputs": [],
   "source": [
    "ls_kwargs = {\"min_iterations\": 10, \"max_iterations\": 1000, \"threshold\": 0.01}\n",
    "gwp = gwp.solve(\n",
    "    alpha=0.5, epsilon=1e-1, threshold=0.1, min_iterations=2, max_iterations=20, linear_solver_kwargs=ls_kwargs\n",
    ")"
   ]
  },
  {
   "cell_type": "markdown",
   "id": "6e17c53a",
   "metadata": {},
   "source": [
    "Low rank hyperparameters\n",
    "~~~~~~~~~~~~~~~~~~~~~~~~\n",
    "The parameters `gamma` and `gamma_rescale` are the same as in the linear case,\n",
    "see example TODO.\n",
    "It remains to consider `ranks` and `tolerances`."
   ]
  },
  {
   "cell_type": "code",
   "execution_count": null,
   "id": "5335d943",
   "metadata": {},
   "outputs": [],
   "source": []
  },
  {
   "cell_type": "markdown",
   "id": "bd200bc0",
   "metadata": {},
   "source": [
    "Keyword arguments & Implementation details\n",
    "~~~~~~~~~~~~~~~~~~~~~~~~~~~~~~~~~~~~~~~~~~\n",
    "Whenever the `solve` method of a quadratic problem is called,\n",
    "a backend-specific quadratic solver is instantiated. Currently, :mod:`ott` is\n",
    "supported, its corresponding quadratic solvers is :class:`ott.core.gromov_wasserstein.GromovWasserstein`,\n",
    "handling both the full-rank and the low-rank case. :mod:`moscot` wraps this\n",
    "class in :class:`moscot.backends.ott.GWSolver` and :class:`moscot.backends.ott.FGWSolver`,\n",
    "handling the purely quadratic and the fused quadratic problem, respectively."
   ]
  }
 ],
 "metadata": {
  "jupytext": {
   "cell_metadata_filter": "-all",
   "executable": "/usr/bin/env python",
   "main_language": "python",
   "notebook_metadata_filter": "-all"
  }
 },
 "nbformat": 4,
 "nbformat_minor": 5
}
