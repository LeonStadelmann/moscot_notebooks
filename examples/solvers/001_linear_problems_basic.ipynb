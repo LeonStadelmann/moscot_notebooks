{
 "cells": [
  {
   "cell_type": "markdown",
   "id": "226934ca",
   "metadata": {
    "cell_marker": "\"\"\""
   },
   "source": [
    "# Solving linear problems basic\n",
    "\n",
    ":::{seealso}\n",
    "See {ref}`sphx_glr_auto_examples_solvers_ex_linear_problems_advanced.py` for an advanced example how to solve linear problems.\n",
    "See {ref}`sphx_glr_auto_examples_solvers_ex_quad_problems_basic.py` for an introduction to solving quadratic problems.\n",
    "See :ref:`sphx_glr_auto_examples_solvers_ex_quad_problems_advanced.py` for an advanced example how to solve quadratic problems.\n",
    "::: "
   ]
  },
  {
   "cell_type": "markdown",
   "id": "821236e3",
   "metadata": {},
   "source": [
    "This notebook elaborates on how to solve linear problems, e.g. the\n",
    ":class:`moscot.problems.time.TemporalProblem` and the\n",
    ":class:`moscot.problems.generic.SinkhornProblem`."
   ]
  },
  {
   "cell_type": "code",
   "execution_count": null,
   "id": "d28f2d96",
   "metadata": {},
   "outputs": [],
   "source": [
    "from moscot.datasets import simulate_data\n",
    "from moscot.problems.generic import SinkhornProblem\n",
    "\n",
    "import numpy as np\n",
    "\n",
    "adata = simulate_data(n_distributions=2, key=\"day\")\n",
    "adata"
   ]
  },
  {
   "cell_type": "markdown",
   "id": "f6374a8f",
   "metadata": {},
   "source": [
    "Basic parameters\n",
    "~~~~~~~~~~~~~~~~\n",
    "`epsilon` is the regularization parameter. The lower `epsilon`, the sparser the\n",
    "transport map. At the same time, the algorithm takes longer to converge. `tau_a`\n",
    "and `tau_b` denote the unbalancedness parameters in the source and the target\n",
    "distribution, respectively. `tau_a = 1` means the source marginals have to be fully\n",
    "satisfied while `0 < tau_a < 1` relaxes this condition. Analogously, `tau_b` affects\n",
    "the marginals of the target distribution. We demonstrate the effect of `tau_a` and `tau_b`\n",
    "with the :class:`moscot.problems.generic.SinkhornProblem`.\n",
    "Whenever the prior marginals `a` and `b` of the source and the target distribution,\n",
    "respectively, are not passed (TODO link to marginals notebook), they are set to be uniform."
   ]
  },
  {
   "cell_type": "code",
   "execution_count": null,
   "id": "5353a472",
   "metadata": {},
   "outputs": [],
   "source": [
    "sp = SinkhornProblem(adata)\n",
    "sp = sp.prepare(key=\"day\")\n",
    "print(sp[0, 1].a[:5], sp[0, 1].b[:5])"
   ]
  },
  {
   "cell_type": "markdown",
   "id": "ad1800d1",
   "metadata": {
    "lines_to_next_cell": 0
   },
   "source": [
    "First, we solve the problem in a balanced manner, such that the posterior marginals of the\n",
    "solution (the sum over the rows and the columns for the source marginals and the\n",
    "target marginals, respectively) are equal to the prior marginals up to small\n",
    "errors (which define the convergence criterion in the balanced case)."
   ]
  },
  {
   "cell_type": "code",
   "execution_count": null,
   "id": "0b4270ac",
   "metadata": {},
   "outputs": [],
   "source": [
    "sp = sp.solve(epsilon=1e-2, tau_a=1, tau_b=1)\n",
    "print(sp[0, 1].solution.a[:5], sp[0, 1].solution.b[:5])\n"
   ]
  },
  {
   "cell_type": "markdown",
   "id": "710e5ebb",
   "metadata": {
    "lines_to_next_cell": 0
   },
   "source": [
    "If we solve an unbalanced problem, the posterior marginals will be different."
   ]
  },
  {
   "cell_type": "code",
   "execution_count": null,
   "id": "1a8493fa",
   "metadata": {},
   "outputs": [],
   "source": [
    "sp = sp.solve(epsilon=1e-2, tau_a=0.9, tau_b=0.99)\n",
    "print(sp[0, 1].solution.a[:5], sp[0, 1].solution.b[:5])"
   ]
  },
  {
   "cell_type": "markdown",
   "id": "9f20f1ee",
   "metadata": {},
   "source": [
    "Low-rank solutions\n",
    "~~~~~~~~~~~~~~~~~~\n",
    "Whenever the dataset is very large, the computational complexity can be\n",
    "reduced by setting `rank` to a positive integer (:cite:`scetbon:21a`). In this\n",
    "case, `epsilon` can also be set to 0, while only the balanced case\n",
    "(`tau_a = tau_b = 1`) is supported. The `rank` should be significantly\n",
    "smaller than the number of cells in both source and target distribution."
   ]
  },
  {
   "cell_type": "code",
   "execution_count": null,
   "id": "34d60eb0",
   "metadata": {},
   "outputs": [],
   "source": [
    "sp = sp.solve(epsilon=0, rank=3)"
   ]
  },
  {
   "cell_type": "markdown",
   "id": "1d0494f8",
   "metadata": {
    "lines_to_next_cell": 0
   },
   "source": [
    "Scaling the cost\n",
    "~~~~~~~~~~~~~~~~\n",
    "`scale_cost` scales the cost matrix which often helps the algorithm to converge.\n",
    "While any number can be passed, it is also possible to scale the cost matrix\n",
    "by e.g. its mean, median, and maximum. We recommend using the `mean` as this\n",
    "is possible without instantiating the cost matrix and hence reduces computational\n",
    "complexity. Moreover, it is more stable w.r.t. outliers than for example scaling\n",
    "by the maximum. Note that the solution of the Optimal Transport is not stable\n",
    "across different scalings:"
   ]
  },
  {
   "cell_type": "code",
   "execution_count": null,
   "id": "43a8ab07",
   "metadata": {},
   "outputs": [],
   "source": [
    "sp = sp.solve(epsilon=1e-2, scale_cost=\"mean\")\n",
    "tm_mean = sp[0, 1].solution.transport_matrix\n",
    "print(tm_mean[:3, :3])"
   ]
  },
  {
   "cell_type": "code",
   "execution_count": null,
   "id": "f938b157",
   "metadata": {},
   "outputs": [],
   "source": [
    "sp = sp.solve(epsilon=1e-2, scale_cost=\"max_cost\")\n",
    "tm_max = sp[0, 1].solution.transport_matrix\n",
    "print(tm_max[:3, :3])"
   ]
  },
  {
   "cell_type": "markdown",
   "id": "be8eee43",
   "metadata": {
    "lines_to_next_cell": 0
   },
   "source": [
    "We can compute the correlation of the flattened transport matrix to get an\n",
    "idea of the influence of different scalings."
   ]
  },
  {
   "cell_type": "code",
   "execution_count": null,
   "id": "e301edde",
   "metadata": {},
   "outputs": [],
   "source": [
    "correlation = np.corrcoef(tm_mean.flatten(), tm_max.flatten())[0, 1]\n",
    "print(f\"{correlation:.4f}\")"
   ]
  }
 ],
 "metadata": {
  "jupytext": {
   "cell_metadata_filter": "-all",
   "executable": "/usr/bin/env python",
   "main_language": "python",
   "notebook_metadata_filter": "-all"
  },
  "kernelspec": {
   "display_name": "Python 3 (ipykernel)",
   "language": "python",
   "name": "python3"
  },
  "language_info": {
   "codemirror_mode": {
    "name": "ipython",
    "version": 3
   },
   "file_extension": ".py",
   "mimetype": "text/x-python",
   "name": "python",
   "nbconvert_exporter": "python",
   "pygments_lexer": "ipython3",
   "version": "3.10.8"
  }
 },
 "nbformat": 4,
 "nbformat_minor": 5
}
