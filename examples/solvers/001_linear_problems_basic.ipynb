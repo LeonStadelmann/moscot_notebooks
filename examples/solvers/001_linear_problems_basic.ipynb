{
 "cells": [
  {
   "cell_type": "markdown",
   "id": "226934ca",
   "metadata": {
    "cell_marker": "\"\"\""
   },
   "source": [
    "# Solving linear problems --- basic\n",
    "\n",
    ":::{seealso}\n",
    "- See {doc}`002_linear_problems_advanced` for an advanced example how to solve linear problems.\n",
    "- See {doc}`003_quad_problems_basic` for an introduction to solving quadratic problems.\n",
    "- See {doc}`004_quad_problems_advanced` for an advanced example how to solve quadratic problems.\n",
    ":::\n",
    "\n",
    "This notebook elaborates on how to solve linear problems, e.g. the {class}`~moscot.problems.time.TemporalProblem` and the {class}`~moscot.problems.generic.SinkhornProblem`."
   ]
  },
  {
   "cell_type": "markdown",
   "id": "11fe58b5",
   "metadata": {},
   "source": [
    "## Imports and data loading"
   ]
  },
  {
   "cell_type": "code",
   "execution_count": 1,
   "id": "d28f2d96",
   "metadata": {
    "scrolled": true
   },
   "outputs": [],
   "source": [
    "from moscot.datasets import simulate_data\n",
    "from moscot.problems.generic import SinkhornProblem\n",
    "\n",
    "import numpy as np"
   ]
  },
  {
   "cell_type": "code",
   "execution_count": 2,
   "id": "7d3bd5f6",
   "metadata": {},
   "outputs": [
    {
     "data": {
      "text/plain": [
       "AnnData object with n_obs × n_vars = 40 × 60\n",
       "    obs: 'day', 'celltype'"
      ]
     },
     "execution_count": 2,
     "metadata": {},
     "output_type": "execute_result"
    }
   ],
   "source": [
    "adata = simulate_data(n_distributions=2, key=\"day\")\n",
    "adata"
   ]
  },
  {
   "cell_type": "markdown",
   "id": "f6374a8f",
   "metadata": {},
   "source": [
    "## Basic parameters\n",
    "  \n",
    "- ``epsilon`` is the regularization parameter. The lower the ``epsilon``, the sparser the transport map. At the same time, the algorithm takes longer to converge.\n",
    "- ``tau_a`` and ``tau_b`` denote the unbalancedness parameters in the source and the target distribution, respectively. ``tau_a = 1`` means the source marginals have to be fully satisfied while ``0 < tau_a < 1`` relaxes this condition. Analogously, ``tau_b`` affects the marginals of the target distribution. We demonstrate the effect of ``tau_a`` and ``tau_b`` with the {class}`~moscot.problems.generic.SinkhornProblem`.\n",
    "\n",
    "Whenever the prior marginals ``a`` and ``b`` of the source and the target distribution,\n",
    "respectively, are not passed (TODO link to marginals notebook), they are set to be uniform."
   ]
  },
  {
   "cell_type": "code",
   "execution_count": 3,
   "id": "5353a472",
   "metadata": {},
   "outputs": [
    {
     "name": "stdout",
     "output_type": "stream",
     "text": [
      "\u001b[34mINFO    \u001b[0m Computing pca with `\u001b[33mn_comps\u001b[0m=\u001b[1;36m30\u001b[0m` for `xy` using `adata.X`                                                  \n",
      "[0.05 0.05 0.05 0.05 0.05] [0.05 0.05 0.05 0.05 0.05]\n"
     ]
    }
   ],
   "source": [
    "sp = SinkhornProblem(adata)\n",
    "sp = sp.prepare(key=\"day\")\n",
    "print(sp[0, 1].a[:5], sp[0, 1].b[:5])"
   ]
  },
  {
   "cell_type": "markdown",
   "id": "ad1800d1",
   "metadata": {
    "lines_to_next_cell": 0
   },
   "source": [
    "First, we solve the problem in a balanced manner, such that the posterior marginals of the\n",
    "solution (the sum over the rows and the columns for the source marginals and the\n",
    "target marginals, respectively) are equal to the prior marginals up to small\n",
    "errors (which define the convergence criterion in the balanced case)."
   ]
  },
  {
   "cell_type": "code",
   "execution_count": 4,
   "id": "0b4270ac",
   "metadata": {},
   "outputs": [
    {
     "name": "stdout",
     "output_type": "stream",
     "text": [
      "\u001b[34mINFO    \u001b[0m Solving problem OTProblem\u001b[1m[\u001b[0m\u001b[33mstage\u001b[0m=\u001b[32m'prepared'\u001b[0m, \u001b[33mshape\u001b[0m=\u001b[1m(\u001b[0m\u001b[1;36m20\u001b[0m, \u001b[1;36m20\u001b[0m\u001b[1m)\u001b[0m\u001b[1m]\u001b[0m.                                              \n"
     ]
    },
    {
     "data": {
      "text/plain": [
       "(Array([0.04999981, 0.05000006, 0.04999965, 0.04999992, 0.04999999],      dtype=float32),\n",
       " Array([0.05004844, 0.04996916, 0.04996588, 0.04997035, 0.04996975],      dtype=float32))"
      ]
     },
     "execution_count": 4,
     "metadata": {},
     "output_type": "execute_result"
    }
   ],
   "source": [
    "sp = sp.solve(epsilon=1e-2, tau_a=1, tau_b=1)\n",
    "sp[0, 1].solution.a[:5], sp[0, 1].solution.b[:5]"
   ]
  },
  {
   "cell_type": "markdown",
   "id": "710e5ebb",
   "metadata": {
    "lines_to_next_cell": 0
   },
   "source": [
    "If we solve an unbalanced problem, the posterior marginals will be different."
   ]
  },
  {
   "cell_type": "code",
   "execution_count": 5,
   "id": "1a8493fa",
   "metadata": {},
   "outputs": [
    {
     "name": "stdout",
     "output_type": "stream",
     "text": [
      "\u001b[34mINFO    \u001b[0m Solving problem OTProblem\u001b[1m[\u001b[0m\u001b[33mstage\u001b[0m=\u001b[32m'solved'\u001b[0m, \u001b[33mshape\u001b[0m=\u001b[1m(\u001b[0m\u001b[1;36m20\u001b[0m, \u001b[1;36m20\u001b[0m\u001b[1m)\u001b[0m\u001b[1m]\u001b[0m.                                                \n"
     ]
    },
    {
     "data": {
      "text/plain": [
       "(Array([0.02987743, 0.02270868, 0.03522239, 0.00888421, 0.03033637],      dtype=float32),\n",
       " Array([0.02467274, 0.02773538, 0.02489461, 0.02233962, 0.02674251],      dtype=float32))"
      ]
     },
     "execution_count": 5,
     "metadata": {},
     "output_type": "execute_result"
    }
   ],
   "source": [
    "sp = sp.solve(epsilon=1e-2, tau_a=0.9, tau_b=0.99)\n",
    "sp[0, 1].solution.a[:5], sp[0, 1].solution.b[:5]"
   ]
  },
  {
   "cell_type": "markdown",
   "id": "9f20f1ee",
   "metadata": {},
   "source": [
    "## Low-rank solutions\n",
    "\n",
    "Whenever the dataset is very large, the computational complexity can be\n",
    "reduced by setting ``rank`` to a positive integer {cite}`scetbon:21a`. In this\n",
    "case, ``epsilon`` can also be set to $0$, while only the balanced case\n",
    "(``tau_a = tau_b = 1``) is supported. The ``rank`` should be significantly\n",
    "smaller than the number of cells in both source and target distribution."
   ]
  },
  {
   "cell_type": "code",
   "execution_count": 6,
   "id": "34d60eb0",
   "metadata": {},
   "outputs": [
    {
     "name": "stdout",
     "output_type": "stream",
     "text": [
      "\u001b[34mINFO    \u001b[0m Solving problem OTProblem\u001b[1m[\u001b[0m\u001b[33mstage\u001b[0m=\u001b[32m'solved'\u001b[0m, \u001b[33mshape\u001b[0m=\u001b[1m(\u001b[0m\u001b[1;36m20\u001b[0m, \u001b[1;36m20\u001b[0m\u001b[1m)\u001b[0m\u001b[1m]\u001b[0m.                                                \n"
     ]
    }
   ],
   "source": [
    "sp = sp.solve(epsilon=0, rank=3)"
   ]
  },
  {
   "cell_type": "markdown",
   "id": "1d0494f8",
   "metadata": {
    "lines_to_next_cell": 0
   },
   "source": [
    "## Scaling the cost\n",
    "\n",
    "``scale_cost`` scales the cost matrix which often helps the algorithm to converge.\n",
    "While any number can be passed, it is also possible to scale the cost matrix\n",
    "by e.g. its ``mean``, ``median``, and ``maximum``. We recommend using the ``mean`` as this\n",
    "is possible without instantiating the cost matrix and hence reduces computational\n",
    "complexity. Moreover, it is more stable w.r.t. outliers than, e.g., scaling\n",
    "by the maximum. Note that the solution of the optimal transport is not stable\n",
    "across different scalings:"
   ]
  },
  {
   "cell_type": "code",
   "execution_count": 7,
   "id": "43a8ab07",
   "metadata": {},
   "outputs": [
    {
     "name": "stdout",
     "output_type": "stream",
     "text": [
      "\u001b[34mINFO    \u001b[0m Solving problem OTProblem\u001b[1m[\u001b[0m\u001b[33mstage\u001b[0m=\u001b[32m'solved'\u001b[0m, \u001b[33mshape\u001b[0m=\u001b[1m(\u001b[0m\u001b[1;36m20\u001b[0m, \u001b[1;36m20\u001b[0m\u001b[1m)\u001b[0m\u001b[1m]\u001b[0m.                                                \n"
     ]
    },
    {
     "data": {
      "text/plain": [
       "Array([[2.5468854e-16, 3.0775851e-08, 3.3745863e-18],\n",
       "       [5.2715894e-20, 1.0699465e-21, 4.7493223e-02],\n",
       "       [1.2640489e-05, 9.2377137e-09, 2.2984659e-03]], dtype=float32)"
      ]
     },
     "execution_count": 7,
     "metadata": {},
     "output_type": "execute_result"
    }
   ],
   "source": [
    "sp = sp.solve(epsilon=1e-2, scale_cost=\"mean\")\n",
    "tm_mean = sp[0, 1].solution.transport_matrix\n",
    "tm_mean[:3, :3]"
   ]
  },
  {
   "cell_type": "code",
   "execution_count": 8,
   "id": "f938b157",
   "metadata": {},
   "outputs": [
    {
     "name": "stdout",
     "output_type": "stream",
     "text": [
      "\u001b[34mINFO    \u001b[0m Solving problem OTProblem\u001b[1m[\u001b[0m\u001b[33mstage\u001b[0m=\u001b[32m'solved'\u001b[0m, \u001b[33mshape\u001b[0m=\u001b[1m(\u001b[0m\u001b[1;36m20\u001b[0m, \u001b[1;36m20\u001b[0m\u001b[1m)\u001b[0m\u001b[1m]\u001b[0m.                                                \n"
     ]
    },
    {
     "data": {
      "text/plain": [
       "Array([[2.1109562e-11, 4.0229529e-06, 1.1995808e-12],\n",
       "       [1.0332924e-13, 8.7991570e-15, 4.4901680e-02],\n",
       "       [1.5114920e-04, 1.4853405e-06, 4.1852128e-03]], dtype=float32)"
      ]
     },
     "execution_count": 8,
     "metadata": {},
     "output_type": "execute_result"
    }
   ],
   "source": [
    "sp = sp.solve(epsilon=1e-2, scale_cost=\"max_cost\")\n",
    "tm_max = sp[0, 1].solution.transport_matrix\n",
    "tm_max[:3, :3]"
   ]
  },
  {
   "cell_type": "markdown",
   "id": "be8eee43",
   "metadata": {
    "lines_to_next_cell": 0
   },
   "source": [
    "We can compute the correlation of the flattened transport matrix to get an\n",
    "idea of the influence of different scalings."
   ]
  },
  {
   "cell_type": "code",
   "execution_count": 9,
   "id": "e301edde",
   "metadata": {},
   "outputs": [
    {
     "data": {
      "text/plain": [
       "0.9929824680375936"
      ]
     },
     "execution_count": 9,
     "metadata": {},
     "output_type": "execute_result"
    }
   ],
   "source": [
    "correlation = np.corrcoef(tm_mean.flatten(), tm_max.flatten())[0, 1]\n",
    "correlation"
   ]
  }
 ],
 "metadata": {
  "jupytext": {
   "cell_metadata_filter": "-all",
   "executable": "/usr/bin/env python",
   "main_language": "python",
   "notebook_metadata_filter": "-all"
  },
  "kernelspec": {
   "display_name": "moslin",
   "language": "python",
   "name": "moslin"
  },
  "language_info": {
   "codemirror_mode": {
    "name": "ipython",
    "version": 3
   },
   "file_extension": ".py",
   "mimetype": "text/x-python",
   "name": "python",
   "nbconvert_exporter": "python",
   "pygments_lexer": "ipython3",
   "version": "3.10.9"
  }
 },
 "nbformat": 4,
 "nbformat_minor": 5
}
