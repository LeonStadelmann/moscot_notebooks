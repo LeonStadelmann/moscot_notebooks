{
 "cells": [
  {
   "cell_type": "code",
   "execution_count": null,
   "id": "8d36d56a",
   "metadata": {},
   "outputs": [],
   "source": [
    "%matplotlib inline"
   ]
  },
  {
   "cell_type": "markdown",
   "id": "70c2902d",
   "metadata": {
    "cell_marker": "\"\"\""
   },
   "source": [
    "Solving quadratic problems basic\n",
    "--------------------------------\n",
    "\n",
    ".. seealso::\n",
    "    See :ref:`sphx_glr_auto_examples_solvers_ex_quad_problems_advanced.py` for an advanced\n",
    "    example how to solve quadratic problems.\n",
    "    See :ref:`sphx_glr_auto_examples_solvers_ex_linear_problems_basic.py` for an introduction\n",
    "    to solving linear problems.\n",
    "    See :ref:`sphx_glr_auto_examples_solvers_ex_linear_problems_advanced.py` for an advanced\n",
    "    example how to solve linear problems."
   ]
  },
  {
   "cell_type": "markdown",
   "id": "8cb54eee",
   "metadata": {},
   "source": [
    "This notebook elaborates on how to quadratic problems, e.g. the\n",
    ":class:`moscot.problems.time.LineageProblem`,\n",
    "the :class:`moscot.problems.spatio_temporal.SpatioTemporalProblem`,\n",
    "the :class:`moscot.problems.space.MappingProblem`,\n",
    "the :class:`moscot.problems.time.AlignmentProblem`,\n",
    "the :class:`moscot.problems.generic.GWProblem`,\n",
    "and the the :class:`moscot.problems.generic.FGWProblem`."
   ]
  },
  {
   "cell_type": "code",
   "execution_count": null,
   "id": "31f548bb",
   "metadata": {},
   "outputs": [],
   "source": [
    "from moscot.datasets import simulate_data\n",
    "from moscot.problems.generic import GWProblem, FGWProblem\n",
    "import scanpy as sc\n",
    "\n",
    "import numpy as np\n",
    "\n",
    "adata = simulate_data(n_distributions=2, key=\"batch\", quad_term=\"spatial\")\n",
    "sc.pp.pca(adata)\n",
    "print(adata)"
   ]
  },
  {
   "cell_type": "markdown",
   "id": "ca4d664d",
   "metadata": {},
   "source": [
    "Basic parameters\n",
    "~~~~~~~~~~~~~~~~\n",
    "There are some parameters in quadratic problems which play the same role as\n",
    "in linear problems. Hence, we refer to TODO for the role of `epsilon`, `tau_a`,\n",
    "and `tau_b`. In fused quadratic problems (also referred to as Fused Gromov-\n",
    "Wasserstein) there is an additional parameter `alpha` defining the convex\n",
    "combination between the quadratic and the linear term. Setting `alpha=1` only\n",
    "considers the quadratic term, while `alpha -> 0` only considers the linear term.\n",
    "While choosing `alpha=0` is possible in fused quadratic problems, and corresponds\n",
    "to the pure quadratic problem, `alpha=0` is\n",
    "not possible, and hence linear problems must be chosen."
   ]
  },
  {
   "cell_type": "code",
   "execution_count": null,
   "id": "ee4340c2",
   "metadata": {},
   "outputs": [],
   "source": [
    "gwp = GWProblem(adata)\n",
    "gwp = gwp.prepare(key=\"batch\", GW_x={\"attr\": \"obsm\", \"key\": \"spatial\"}, GW_y={\"attr\": \"obsm\", \"key\": \"spatial\"})\n",
    "gwp = gwp.solve(alpha=0, epsilon=1e-1)\n",
    "\n",
    "fgwp = FGWProblem(adata)\n",
    "fgwp = fgwp.prepare(\n",
    "    key=\"batch\", GW_x={\"attr\": \"obsm\", \"key\": \"spatial\"}, GW_y={\"attr\": \"obsm\", \"key\": \"spatial\"}, joint_attr=\"X_pca\"\n",
    ")\n",
    "fgwp = fgwp.solve(epsilon=1e-1)\n",
    "\n",
    "max_difference = np.max(np.abs(gwp[\"0\", \"1\"].solution.transport_matrix - fgwp[\"0\", \"1\"].solution.transport_matrix))\n",
    "print(f\"{max_difference:.6f}\")"
   ]
  },
  {
   "cell_type": "markdown",
   "id": "299b9441",
   "metadata": {
    "lines_to_next_cell": 0
   },
   "source": [
    "Low-rank solutions\n",
    "~~~~~~~~~~~~~~~~~~\n",
    "Whenever the dataset is very large, the computational complexity can be\n",
    "reduced by setting `rank` to a positive integer (:cite:`scetbon:21a`). In this\n",
    "case, `epsilon` can also be set to 0, while only the balanced case\n",
    "(`tau_a = tau_b = 1`) is supported. Moreover, the data has to be provided\n",
    "as point clouds, i.e. no precomputed cost matrix can be passed."
   ]
  },
  {
   "cell_type": "code",
   "execution_count": null,
   "id": "d7503310",
   "metadata": {},
   "outputs": [],
   "source": [
    "gwp = gwp.solve(epsilon=1e-2, rank=3)"
   ]
  },
  {
   "cell_type": "markdown",
   "id": "f53f7388",
   "metadata": {},
   "source": [
    "Scaling the cost\n",
    "~~~~~~~~~~~~~~~~\n",
    "`scale_cost` works the same way as for linear problems. Note that all cost\n",
    "terms will be scaled by the same argument."
   ]
  }
 ],
 "metadata": {
  "jupytext": {
   "cell_metadata_filter": "-all",
   "executable": "/usr/bin/env python",
   "main_language": "python",
   "notebook_metadata_filter": "-all"
  }
 },
 "nbformat": 4,
 "nbformat_minor": 5
}
