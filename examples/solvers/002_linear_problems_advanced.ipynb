{
 "cells": [
  {
   "cell_type": "code",
   "execution_count": null,
   "id": "56c6430a",
   "metadata": {},
   "outputs": [],
   "source": [
    "%matplotlib inline"
   ]
  },
  {
   "cell_type": "markdown",
   "id": "e6fecba7",
   "metadata": {
    "cell_marker": "\"\"\""
   },
   "source": [
    "Solving linear problems - advanced\n",
    "----------------------------------\n",
    "\n",
    ".. seealso::\n",
    "    See :ref:`sphx_glr_auto_examples_solvers_ex_linear_problems_basic.py` for an introduction\n",
    "    to solving linear problems.\n",
    "    See :ref:`sphx_glr_auto_examples_solvers_ex_quad_problems_basic.py` for an introduction\n",
    "    to solving quadratic problems.\n",
    "    See :ref:`sphx_glr_auto_examples_solvers_ex_quad_problems_advanced.py` for an advanced\n",
    "    example how to solve quadratic problems."
   ]
  },
  {
   "cell_type": "markdown",
   "id": "2611edb5",
   "metadata": {},
   "source": [
    "This examples is a continuation of TODO reference and shows advanced examples\n",
    "for how to solve linear problems like the\n",
    ":class:`moscot.problems.time.TemporalProblem` and the\n",
    ":class:`moscot.problems.generic.SinkhornProblem`."
   ]
  },
  {
   "cell_type": "code",
   "execution_count": null,
   "id": "a0b18fe4",
   "metadata": {},
   "outputs": [],
   "source": [
    "from moscot.datasets import simulate_data\n",
    "from moscot.problems.generic import SinkhornProblem\n",
    "\n",
    "adata = simulate_data(n_distributions=2, key=\"day\")\n",
    "adata"
   ]
  },
  {
   "cell_type": "markdown",
   "id": "942c502d",
   "metadata": {},
   "source": [
    "Threshold\n",
    "~~~~~~~~~\n",
    "The `threshold` parameter defines the convergence criterion. In the balanced\n",
    "setting the `threshold` denotes the deviation between prior and posterior\n",
    "marginals, while in the unbalanced setting the `threshold` corresponds to\n",
    "a Cauchy sequence stopping criterion.\n",
    "\n",
    "Initializers\n",
    "~~~~~~~~~~~~\n",
    "Different Initializers can help to improve convergence. For the full-rank\n",
    "case we can set the initializer to the trivial initializing method denoted\n",
    "by `default`. The `gaussian` (:cite:`thornton:22`) initializer computes\n",
    "Gaussian approximations of two point clouds and leverages the closed-form\n",
    "solution of Optimal Transport problems between Gaussians, while the `sorting`\n",
    "initializer (:cite:`thornton:22`) solves a simplified (sorting) Optimal Transport\n",
    "problem and uses its solution as initializer. See :mod:`ott.core.initializers`\n",
    "for details.\n",
    "\n",
    "For low-rank problems different initializers are available, see\n",
    ":mod:`ott.core.initializers_lr`. Initialization can be `random`, `rank2`\n",
    "(:cite:`scetbon:22b`), `k-means`, or `generalized-k-means`.\n",
    "For some initializers keyword arguments can be provided as a dictionary,\n",
    "e.g. `min_iterations`\n",
    "and `max_iterations` can be provided for the k-means algorithm used by\n",
    "the `k-means` initializer."
   ]
  },
  {
   "cell_type": "code",
   "execution_count": null,
   "id": "f2b08aeb",
   "metadata": {},
   "outputs": [],
   "source": [
    "sp = SinkhornProblem(adata)\n",
    "sp = sp.prepare(key=\"day\")\n",
    "\n",
    "ik = {\"min_iterations\": 5, \"max_iterations\": 200}\n",
    "sp = sp.solve(epsilon=0, rank=3, initializer=\"k-means\", initializer_kwargs=ik)"
   ]
  },
  {
   "cell_type": "markdown",
   "id": "8b3c5857",
   "metadata": {
    "lines_to_next_cell": 0
   },
   "source": [
    "Number of iterations\n",
    "~~~~~~~~~~~~~~~~~~~~\n",
    "There are three types of iterations, which can be set. `min_iterations` is the\n",
    "minimum number of iterations of the algorithm. `max_iterations` is the\n",
    "maximum number of iterations. If the convergence criterion is not met\n",
    "after completing `max_iterations`, the model has not converged. `inner_iterations`\n",
    "is the number of iterations after which the model checks the convergence criterion.\n",
    "If `max_iterations` is too low, the model won't converge:"
   ]
  },
  {
   "cell_type": "code",
   "execution_count": null,
   "id": "457b59b0",
   "metadata": {},
   "outputs": [],
   "source": [
    "sp = sp.solve(epsilon=1e-3, inner_iterations=1, min_iterations=0, max_iterations=2)\n"
   ]
  },
  {
   "cell_type": "markdown",
   "id": "bed4c434",
   "metadata": {
    "lines_to_next_cell": 0
   },
   "source": [
    "Low rank hyperparameters\n",
    "~~~~~~~~~~~~~~~~~~~~~~~~\n",
    "The low-rank algorithm requires more hyperparameters, i.e. `gamma`, the\n",
    "a step size of the mirror descent algorithm and `gamma_rescale`, a flag\n",
    "indicating whether to rescale `gamma`. When tuning `gamma`, we recommend\n",
    "trying orders of 10. If `gamma` is too small or too large, the algorithm\n",
    "might not converge"
   ]
  },
  {
   "cell_type": "code",
   "execution_count": null,
   "id": "2a9d98ad",
   "metadata": {},
   "outputs": [],
   "source": [
    "sp = sp.solve(epsilon=0, rank=3, initializer=\"random\", max_iterations=30, gamma=1000)"
   ]
  },
  {
   "cell_type": "code",
   "execution_count": null,
   "id": "10148340",
   "metadata": {},
   "outputs": [],
   "source": [
    "sp = sp.solve(epsilon=0, rank=3, initializer=\"random\", max_iterations=30, gamma=10)"
   ]
  },
  {
   "cell_type": "markdown",
   "id": "bad09aab",
   "metadata": {},
   "source": [
    "Keyword arguments & Implementation details\n",
    "~~~~~~~~~~~~~~~~~~~~~~~~~~~~~~~~~~~~~~~~~~\n",
    "Whenever a `solve` method of a linear problem is called,\n",
    "a backend-specific linear solver is instantiated. Currently, :mod:`ott` is\n",
    "supported, its corresponding linear solvers are :class:`ott.core.sinkhorn.Sinkhorn`,\n",
    "which is used whenever `rank = -1`, and :class:`ott.core.sinkhorn_lr.LRSinkhorn`,\n",
    "its counterpart whenever `rank` is a positive integer. :mod:`moscot` wraps these\n",
    "classes in :class:`moscot.backends.ott.SinkhornSolver` which handles both full and\n",
    "low rank."
   ]
  }
 ],
 "metadata": {
  "jupytext": {
   "cell_metadata_filter": "-all",
   "executable": "/usr/bin/env python",
   "main_language": "python",
   "notebook_metadata_filter": "-all"
  }
 },
 "nbformat": 4,
 "nbformat_minor": 5
}
