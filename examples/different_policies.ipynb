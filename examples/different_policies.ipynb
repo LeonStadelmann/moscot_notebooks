{
 "cells": [
  {
   "cell_type": "markdown",
   "id": "d08cd678-b403-4b9c-97f6-87c1cb5f12db",
   "metadata": {},
   "source": [
    "# Using different policies"
   ]
  },
  {
   "cell_type": "markdown",
   "id": "0ceb7e2f-5771-4168-a966-ba39a448f315",
   "metadata": {},
   "source": [
    "This example shows how to use different policies.\n",
    "\n",
    "A policy is the rule which sets of transport maps are computed given different distributions of cells.\n",
    "\n",
    "Some problem classes require a certain policy, e.g. the `MappingProblem` only works with the `ExternalStarPolicy` meaning that all spatial batches from the `AnnData` object are mapped to the same single cell reference cell distribution. \n",
    "\n",
    "Each problem class has a set of valid policies. For the `LineageProblem` and the `TemporalProblem` we can choose among different policies which we demonstrate below."
   ]
  },
  {
   "cell_type": "code",
   "execution_count": 1,
   "id": "7bad0c67-c11b-4965-aa36-e6ba561f4997",
   "metadata": {},
   "outputs": [],
   "source": [
    "from moscot.problems.time import TemporalProblem\n",
    "from moscot.datasets import simulation"
   ]
  },
  {
   "cell_type": "code",
   "execution_count": 2,
   "id": "bdf2c8c5-07b5-4e32-8b9d-6b5f73d6db32",
   "metadata": {},
   "outputs": [],
   "source": [
    "adata = simulation(size=15360)"
   ]
  },
  {
   "cell_type": "markdown",
   "id": "8e6c41c7-6c19-4638-a124-911f24f2028d",
   "metadata": {},
   "source": [
    "This simulated dataset contains single cell data across 4 time point, i.e. day 11.0, 12.0, 13.0 and 14.0.\n",
    "\n",
    "The policy allows us to determine which transport maps we want to compute."
   ]
  },
  {
   "cell_type": "markdown",
   "id": "f3ed036e-5196-49f0-a521-1ff50ec9b5ab",
   "metadata": {},
   "source": [
    "### Different policies"
   ]
  },
  {
   "cell_type": "markdown",
   "id": "48d57e6b-3b11-43f1-9479-2fe473a87a57",
   "metadata": {},
   "source": [
    "#### Sequential policy"
   ]
  },
  {
   "cell_type": "markdown",
   "id": "b33ad1ef-e42f-4fcf-af98-9149cbb19b91",
   "metadata": {},
   "source": [
    "We start with the default policy, which is the sequential policy.\n",
    "The following code shows which OT problems are prepared to be solved."
   ]
  },
  {
   "cell_type": "code",
   "execution_count": 3,
   "id": "195021e8-aa79-4105-9b48-e21d554d33d1",
   "metadata": {},
   "outputs": [],
   "source": [
    "tp_sequential = TemporalProblem(adata)"
   ]
  },
  {
   "cell_type": "code",
   "execution_count": 4,
   "id": "9a8731f7-a902-4921-974e-e8a0ac50333d",
   "metadata": {},
   "outputs": [],
   "source": [
    "tp_sequential = tp_sequential.prepare(time_key=\"day\", policy=\"sequential\")"
   ]
  },
  {
   "cell_type": "code",
   "execution_count": 5,
   "id": "bd9a578c-b639-4e7f-bc87-e5450187bc80",
   "metadata": {},
   "outputs": [
    {
     "data": {
      "text/plain": [
       "{(11.0, 12.0): BirthDeathProblem[shape=(2048, 4096)],\n",
       " (10.0, 11.0): BirthDeathProblem[shape=(1024, 2048)],\n",
       " (12.0, 13.0): BirthDeathProblem[shape=(4096, 8192)]}"
      ]
     },
     "execution_count": 5,
     "metadata": {},
     "output_type": "execute_result"
    }
   ],
   "source": [
    "tp_sequential.problems"
   ]
  },
  {
   "cell_type": "markdown",
   "id": "5786b9fd-366b-4b52-9c7a-6f91170dd2ae",
   "metadata": {},
   "source": [
    "We see that all consecutive pairs of values in the `time_key` column are used to create an OT problem"
   ]
  },
  {
   "cell_type": "markdown",
   "id": "d21728cc-59e3-47e3-ba1a-61d2aa98211c",
   "metadata": {},
   "source": [
    "#### Upper triangular policy"
   ]
  },
  {
   "cell_type": "code",
   "execution_count": 6,
   "id": "24bdf9aa-f44a-4401-9959-fb6338978dba",
   "metadata": {},
   "outputs": [],
   "source": [
    "tp_triu = TemporalProblem(adata)"
   ]
  },
  {
   "cell_type": "code",
   "execution_count": 7,
   "id": "50d19124-e5df-4eff-ac51-cdd00ed981b8",
   "metadata": {},
   "outputs": [],
   "source": [
    "tp_triu = tp_triu.prepare(time_key=\"day\", policy=\"triu\")"
   ]
  },
  {
   "cell_type": "code",
   "execution_count": 8,
   "id": "03f4fde8-b9db-4663-a5e9-6b1c138cec61",
   "metadata": {},
   "outputs": [
    {
     "data": {
      "text/plain": [
       "{(10.0, 11.0): BirthDeathProblem[shape=(1024, 2048)],\n",
       " (11.0, 13.0): BirthDeathProblem[shape=(2048, 8192)],\n",
       " (12.0, 13.0): BirthDeathProblem[shape=(4096, 8192)],\n",
       " (10.0, 13.0): BirthDeathProblem[shape=(1024, 8192)],\n",
       " (11.0, 12.0): BirthDeathProblem[shape=(2048, 4096)],\n",
       " (10.0, 12.0): BirthDeathProblem[shape=(1024, 4096)]}"
      ]
     },
     "execution_count": 8,
     "metadata": {},
     "output_type": "execute_result"
    }
   ],
   "source": [
    "tp_triu.problems"
   ]
  },
  {
   "cell_type": "markdown",
   "id": "69b4d0b7-02db-4dc8-a03d-9a537f791f4d",
   "metadata": {
    "tags": []
   },
   "source": [
    "#### Explicit policy"
   ]
  },
  {
   "cell_type": "code",
   "execution_count": 9,
   "id": "8b6efec2-977b-490b-8562-7aeffe510b1c",
   "metadata": {},
   "outputs": [],
   "source": [
    "tp_expl = TemporalProblem(adata)"
   ]
  },
  {
   "cell_type": "code",
   "execution_count": 10,
   "id": "7ae0c5fd-c90a-4942-b4ed-0b3d75192937",
   "metadata": {},
   "outputs": [],
   "source": [
    "tp_expl = tp_expl.prepare(time_key=\"day\", policy=\"explicit\", subset=[(10,11), (12,13), (10,13)])"
   ]
  },
  {
   "cell_type": "code",
   "execution_count": 11,
   "id": "8b09ee25-ca37-4e90-920f-27473df2b9d9",
   "metadata": {},
   "outputs": [
    {
     "data": {
      "text/plain": [
       "{(10, 11): BirthDeathProblem[shape=(1024, 2048)],\n",
       " (12, 13): BirthDeathProblem[shape=(4096, 8192)],\n",
       " (10, 13): BirthDeathProblem[shape=(1024, 8192)]}"
      ]
     },
     "execution_count": 11,
     "metadata": {},
     "output_type": "execute_result"
    }
   ],
   "source": [
    "tp_expl.problems"
   ]
  },
  {
   "cell_type": "markdown",
   "id": "13263876-b78f-45c4-9e9b-57342d85d034",
   "metadata": {},
   "source": [
    "### Using the `filter` argument"
   ]
  },
  {
   "cell_type": "markdown",
   "id": "527ab769-c31e-4af0-aa62-20ceddb5133b",
   "metadata": {},
   "source": [
    "If we want to use the sequential policy but restrict it to a certain subset of distributions we can use the `filter` argument."
   ]
  },
  {
   "cell_type": "code",
   "execution_count": 12,
   "id": "ff0627cb-aa0b-4d14-aa43-4e87f38df185",
   "metadata": {},
   "outputs": [],
   "source": [
    "tp_filtered = TemporalProblem(adata)"
   ]
  },
  {
   "cell_type": "code",
   "execution_count": 13,
   "id": "0b896a12-30d5-4c73-a6a4-07c3dbfda450",
   "metadata": {},
   "outputs": [],
   "source": [
    "tp_filtered = tp_filtered.prepare(time_key=\"day\", policy=\"sequential\", filter=[10, 12, 13])"
   ]
  },
  {
   "cell_type": "code",
   "execution_count": 14,
   "id": "e66bdfaf-5b77-4b4d-b496-57ff4021c3fc",
   "metadata": {},
   "outputs": [
    {
     "data": {
      "text/plain": [
       "{(11.0, 12.0): BirthDeathProblem[shape=(2048, 4096)],\n",
       " (10.0, 11.0): BirthDeathProblem[shape=(1024, 2048)],\n",
       " (12.0, 13.0): BirthDeathProblem[shape=(4096, 8192)]}"
      ]
     },
     "execution_count": 14,
     "metadata": {},
     "output_type": "execute_result"
    }
   ],
   "source": [
    "tp_filtered.problems"
   ]
  },
  {
   "cell_type": "markdown",
   "id": "d3349b54-5bad-4313-82de-376e3350c203",
   "metadata": {},
   "source": [
    "Analogously, the `filter` argument can also be applied to other policies, e.g. the upper triangular policy."
   ]
  }
 ],
 "metadata": {
  "kernelspec": {
   "display_name": "moscot_env",
   "language": "python",
   "name": "moscot_env"
  },
  "language_info": {
   "codemirror_mode": {
    "name": "ipython",
    "version": 3
   },
   "file_extension": ".py",
   "mimetype": "text/x-python",
   "name": "python",
   "nbconvert_exporter": "python",
   "pygments_lexer": "ipython3",
   "version": "3.8.13"
  }
 },
 "nbformat": 4,
 "nbformat_minor": 5
}
