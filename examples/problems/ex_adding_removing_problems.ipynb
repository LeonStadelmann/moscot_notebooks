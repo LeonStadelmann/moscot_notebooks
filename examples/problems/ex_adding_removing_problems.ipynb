{
 "cells": [
  {
   "cell_type": "code",
   "execution_count": null,
   "id": "a7c71326",
   "metadata": {},
   "outputs": [],
   "source": [
    "%matplotlib inline"
   ]
  },
  {
   "cell_type": "markdown",
   "id": "ed4d5984",
   "metadata": {
    "cell_marker": "\"\"\""
   },
   "source": [
    "Adding and removing problems\n",
    "----------------------------"
   ]
  },
  {
   "cell_type": "markdown",
   "id": "0b8386be",
   "metadata": {},
   "source": [
    "This notebook demonstrates how to add or remove single problems.\n",
    "\n",
    "Adding a single problem can be useful for fine tuning, and is sometimes needed\n",
    "for certain downstream functions, e.g. for\n",
    ":meth:`moscot.problems.time.TemporalProblem.compute_interpolated_distance`."
   ]
  },
  {
   "cell_type": "code",
   "execution_count": null,
   "id": "2aca4fac",
   "metadata": {},
   "outputs": [],
   "source": [
    "from moscot.datasets import simulate_data\n",
    "from moscot.problems.time import TemporalProblem\n",
    "\n",
    "adata = simulate_data(n_distributions=4, key=\"day\")\n",
    "adata"
   ]
  },
  {
   "cell_type": "markdown",
   "id": "40cddc09",
   "metadata": {},
   "source": [
    "Let's prepare and solve the problem."
   ]
  },
  {
   "cell_type": "code",
   "execution_count": null,
   "id": "9e3e5042",
   "metadata": {},
   "outputs": [],
   "source": [
    "tp = TemporalProblem(adata).prepare(time_key=\"day\").solve(epsilon=1e-2)\n",
    "\n",
    "for k in tp.problems.keys():\n",
    "    print(f\"key: {k}\", f\"solutions: {tp.problems[k].solution}\")"
   ]
  },
  {
   "cell_type": "markdown",
   "id": "5645a3b4",
   "metadata": {},
   "source": [
    "Let's say we now want to solve one of the problems again,\n",
    "for examples because the solver did not converge, or we simply want to try\n",
    "different parameters. Let's say we want to try unbalancedness for the map between\n",
    "day 2 and day 3.\n",
    "Hence, we copy the single problem and solve it again."
   ]
  },
  {
   "cell_type": "code",
   "execution_count": null,
   "id": "37fb8eb0",
   "metadata": {},
   "outputs": [],
   "source": [
    "key = (2, 3)\n",
    "extracted_problem = tp.problems[key]\n",
    "extracted_problem = extracted_problem.solve(epsilon=1e-2, tau_a=0.95, tau_b=0.95)\n",
    "extracted_problem.solution"
   ]
  },
  {
   "cell_type": "markdown",
   "id": "1153e7d9",
   "metadata": {},
   "source": [
    "Now we are happy with the solution and add the extracted problem back to the\n",
    ":class:`moscot.problems.time.TemporalProblem` class."
   ]
  },
  {
   "cell_type": "code",
   "execution_count": null,
   "id": "80dc0dbb",
   "metadata": {},
   "outputs": [],
   "source": [
    "tp = tp.add_problem((2, 3), extracted_problem, overwrite=True)\n",
    "for k in tp.problems.keys():\n",
    "    print(f\"key: {k}\", f\"solutions: {tp.problems[k].solution}\")"
   ]
  },
  {
   "cell_type": "markdown",
   "id": "1c100e4a",
   "metadata": {},
   "source": [
    "In TODO link different_policies the use of different policies are explained."
   ]
  }
 ],
 "metadata": {
  "jupytext": {
   "cell_metadata_filter": "-all",
   "executable": "/usr/bin/env python",
   "main_language": "python",
   "notebook_metadata_filter": "-all"
  }
 },
 "nbformat": 4,
 "nbformat_minor": 5
}
