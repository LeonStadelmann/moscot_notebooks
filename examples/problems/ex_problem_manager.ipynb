{
 "cells": [
  {
   "cell_type": "code",
   "execution_count": null,
   "id": "89f99f81",
   "metadata": {},
   "outputs": [],
   "source": [
    "%matplotlib inline"
   ]
  },
  {
   "cell_type": "markdown",
   "id": "ac75b670",
   "metadata": {
    "cell_marker": "\"\"\""
   },
   "source": [
    "Using the Problem Manager\n",
    "-------------------------"
   ]
  },
  {
   "cell_type": "markdown",
   "id": "a3c197f1",
   "metadata": {},
   "source": [
    "Let's prepare and solve the problem.\n",
    "In this notebook, we will showcase how to use the `ProblemManager`\n",
    "capabilities in :class:`from moscot.problems.CompoundProblem`.\n",
    "Let's load one temporal dataset, with 4 time points."
   ]
  },
  {
   "cell_type": "code",
   "execution_count": null,
   "id": "e2b269f1",
   "metadata": {},
   "outputs": [],
   "source": [
    "from moscot.datasets import hspc\n",
    "from moscot.problems.time import TemporalProblem\n",
    "\n",
    "adata = hspc()"
   ]
  },
  {
   "cell_type": "markdown",
   "id": "a61dc843",
   "metadata": {},
   "source": [
    "Let's prepare and solve the problem."
   ]
  },
  {
   "cell_type": "code",
   "execution_count": null,
   "id": "e41c0785",
   "metadata": {},
   "outputs": [],
   "source": [
    "tp = TemporalProblem(adata).prepare(time_key=\"day\").solve(epsilon=1e-2)\n",
    "\n",
    "for k in tp.problems.keys():\n",
    "    print(f\"key: {k}\", f\"solutions: {tp.problems[k].solution}\")"
   ]
  },
  {
   "cell_type": "markdown",
   "id": "a46420c3",
   "metadata": {},
   "source": [
    "Let's say we now want to solve one of the problems again,\n",
    "because for example the solver did not converge, or we simply want to try it\n",
    "with a different set of parameters for the OT solver.\n",
    "What we need to do, is to copy the single problem and solve it again."
   ]
  },
  {
   "cell_type": "code",
   "execution_count": null,
   "id": "3a755805",
   "metadata": {},
   "outputs": [],
   "source": [
    "key = (2, 3)\n",
    "new_problem = tp.problems[(2, 3)]\n",
    "new_problem = new_problem.solve(epsilon=1e-2, tau_a=0.95, max_iterations=1e2)\n",
    "new_problem.solution"
   ]
  },
  {
   "cell_type": "markdown",
   "id": "55fd5eb0",
   "metadata": {},
   "source": [
    "For example, in this case we added a `tau` penalty for the unbalance case,\n",
    "resulting in a higher cost compared to the result above.\n",
    "Let's add this solution to the  :class:`moscot.problems.time.TemporalProblem` class."
   ]
  },
  {
   "cell_type": "code",
   "execution_count": null,
   "id": "88aa36ba",
   "metadata": {},
   "outputs": [],
   "source": [
    "tp = tp.add_problem((2, 3), new_problem, overwrite=True)\n",
    "for k in tp.problems.keys():\n",
    "    print(f\"key: {k}\", f\"solutions: {tp.problems[k].solution}\")"
   ]
  }
 ],
 "metadata": {
  "jupytext": {
   "cell_metadata_filter": "-all",
   "executable": "/usr/bin/env python",
   "main_language": "python",
   "notebook_metadata_filter": "-all"
  }
 },
 "nbformat": 4,
 "nbformat_minor": 5
}
