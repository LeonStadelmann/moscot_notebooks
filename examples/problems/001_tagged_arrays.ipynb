{
 "cells": [
  {
   "cell_type": "markdown",
   "id": "5b691235",
   "metadata": {},
   "source": [
    "# Tagged Arrays\n",
    "\n",
    "\n",
    "In this example, we introduce the {class}`~moscot.solvers.TaggedArray`.\n",
    "\n",
    "{class}`moscot.solvers.TaggedArray` stores the data passed by the users in a unified way before it is passed to the backend."
   ]
  },
  {
   "cell_type": "code",
   "execution_count": 2,
   "id": "cc8e3132",
   "metadata": {},
   "outputs": [],
   "source": [
    "from moscot.datasets import simulate_data\n",
    "from moscot.problems.generic import GWProblem\n",
    "import scanpy as sc\n",
    "\n",
    "import numpy as np\n",
    "import pandas as pd"
   ]
  },
  {
   "cell_type": "code",
   "execution_count": 9,
   "id": "dec86f59",
   "metadata": {},
   "outputs": [
    {
     "data": {
      "text/plain": [
       "AnnData object with n_obs × n_vars = 40 × 60\n",
       "    obs: 'batch', 'celltype'\n",
       "    uns: 'pca'\n",
       "    obsm: 'X_pca'\n",
       "    varm: 'PCs'"
      ]
     },
     "execution_count": 9,
     "metadata": {},
     "output_type": "execute_result"
    }
   ],
   "source": [
    "rng = np.random.default_rng(seed=42)\n",
    "np.set_printoptions(threshold=2)\n",
    "\n",
    "adata = simulate_data(n_distributions=2, key=\"batch\")\n",
    "sc.pp.pca(adata)\n",
    "adata"
   ]
  },
  {
   "cell_type": "markdown",
   "id": "768a0240",
   "metadata": {},
   "source": [
    "We instantiate and prepare a {class}`~moscot.problems.generic.GWProblem` to demonstrate the role of the {class}`~moscot.solvers.TaggedArray`."
   ]
  },
  {
   "cell_type": "code",
   "execution_count": 4,
   "id": "16f0c3a9",
   "metadata": {},
   "outputs": [],
   "source": [
    "gwp = GWProblem(adata)\n",
    "gwp = gwp.prepare(key=\"batch\", joint_attr=\"X_pca\", GW_x=\"X_pca\", GW_y=\"X_pca\")"
   ]
  },
  {
   "cell_type": "markdown",
   "id": "bc4d940a",
   "metadata": {},
   "source": [
    "The {class}`~moscot.problems.base.OTProblem` has attributes {attr}`~moscot.problems.base.OTProblem.xy`, {attr}`~moscot.problems.base.OTProblem.x`, and {attr}`~moscot.problems.base.OTProblem.y`, storing the data for the linear and quadratic term, respectively. These attributes are all {class}`TaggedArrays <moscot.solvers.TaggedArray>`."
   ]
  },
  {
   "cell_type": "code",
   "execution_count": 13,
   "id": "f3d421c8",
   "metadata": {},
   "outputs": [
    {
     "data": {
      "text/plain": [
       "TaggedArray(data_src=ArrayView([[ 4.718115  , -0.16162483, -1.0284393 , ...,  0.5209566 ,\n",
       "            -0.0388568 , -0.04343414],\n",
       "           [-1.6827182 ,  0.75426227, -2.1140182 , ..., -0.348197  ,\n",
       "            -0.4980026 , -0.0512526 ],\n",
       "           [ 0.11928   , -1.9083179 ,  2.5255933 , ..., -0.53636247,\n",
       "            -0.6098449 , -0.2735412 ],\n",
       "           ...,\n",
       "           [-1.7637906 ,  2.95762   , -0.06531301, ..., -0.65913224,\n",
       "            -0.0113457 ,  0.06709672],\n",
       "           [-1.0875723 ,  3.231092  , -0.98423856, ..., -0.5448444 ,\n",
       "            -0.2618213 , -0.01479931],\n",
       "           [-1.4714718 ,  0.1015937 , -0.9966435 , ...,  0.23407328,\n",
       "             0.04770787, -0.02073438]], dtype=float32), data_tgt=ArrayView([[-1.0755012 , -3.5715468 , -0.31484002, ...,  0.49174863,\n",
       "            -0.22571746,  0.1941065 ],\n",
       "           [ 0.8515434 , -1.0328988 ,  3.8338466 , ...,  0.2522054 ,\n",
       "            -0.11483867,  0.24348386],\n",
       "           [-0.4111828 , -2.6891477 , -1.8634194 , ..., -0.3468407 ,\n",
       "             0.6008563 ,  0.0047876 ],\n",
       "           ...,\n",
       "           [ 2.0240774 , -1.5972767 , -0.59093577, ..., -0.11354081,\n",
       "             0.29031488, -0.33241972],\n",
       "           [-0.93774724,  2.4257028 , -0.12821491, ...,  0.19445612,\n",
       "             0.82938945, -0.43833604],\n",
       "           [ 2.7093818 , -2.8854432 , -0.9251924 , ...,  0.3149964 ,\n",
       "             0.3337147 ,  0.07766481]], dtype=float32), tag='point_cloud', cost=<ott.geometry.costs.SqEuclidean object at 0x28d274700>)"
      ]
     },
     "execution_count": 13,
     "metadata": {},
     "output_type": "execute_result"
    }
   ],
   "source": [
    "gwp[\"0\", \"1\"].xy"
   ]
  },
  {
   "cell_type": "markdown",
   "id": "a7b35315",
   "metadata": {},
   "source": [
    "Each {class}`~moscot.solvers.TaggedArray` has attributes\n",
    "{attr}`~moscot.solvers.TaggedArray.data_src`, {attr}`~moscot.solvers.TaggedArray.data_tgt`,\n",
    "{attr}`~moscot.solvers.TaggedArray.cost`, and {attr}`~moscot.solvers.TaggedArray.tag`."
   ]
  },
  {
   "cell_type": "code",
   "execution_count": 14,
   "id": "7b70c639",
   "metadata": {},
   "outputs": [
    {
     "data": {
      "text/plain": [
       "('point_cloud', <ott.geometry.costs.SqEuclidean at 0x28d274700>)"
      ]
     },
     "execution_count": 14,
     "metadata": {},
     "output_type": "execute_result"
    }
   ],
   "source": [
    "gwp[\"0\", \"1\"].xy.tag, gwp[\"0\", \"1\"].xy.cost"
   ]
  },
  {
   "cell_type": "markdown",
   "id": "16afc86a",
   "metadata": {},
   "source": [
    "The :attr:`moscot.solvers.TaggedArray.tag` is of type :class:`moscot.solvers.Tag` and\n",
    "defines what kind of data is stored in the :class:`moscot.solvers.TaggedArray`.\n",
    "Possible tags are \"cost_matrix\", \"kernel\", and \"point_cloud\". Whenever the `tag` is \"point_cloud\",\n",
    "the backend is expted to compute the cost on the fly. Note that this often reduces\n",
    "memory complexity from quadratic to linear and hence is advisable.\n",
    ":attr:`moscot.solvers.TaggedArray.cost` should then specify which cost to compute from the\n",
    "point clouds.\n",
    "\n",
    "If the :class:`moscot.solvers.TaggedArray` corresponds to a linear term,\n",
    ":attr:`moscot.solvers.TaggedArray.data_src` and :attr:`moscot.solvers.TaggedArray.data_tgt`\n",
    "contain the point clouds of the source and the target distribution, respectively."
   ]
  },
  {
   "cell_type": "code",
   "execution_count": 16,
   "id": "e50ce79b",
   "metadata": {},
   "outputs": [
    {
     "name": "stdout",
     "output_type": "stream",
     "text": [
      "<class 'anndata._core.views.ArrayView'>\n",
      "<class 'anndata._core.views.ArrayView'>\n"
     ]
    }
   ],
   "source": [
    "print(type(gwp[\"0\", \"1\"].xy.data_src))\n",
    "print(type(gwp[\"0\", \"1\"].xy.data_tgt))"
   ]
  },
  {
   "cell_type": "code",
   "execution_count": null,
   "id": "e3d67c03",
   "metadata": {},
   "outputs": [],
   "source": [
    "# If the :class:`moscot.solvers.TaggedArray` corresponds to a quadratic term, the cost\n",
    "# will be computed pairwise between points of the same distribution. Hence,\n",
    "# :attr:`moscot.solvers.TaggedArray.data_tgt` will be `None`.\n",
    "\n",
    "print(type(fgwp[\"0\", \"1\"].x.data_src))\n",
    "print(type(fgwp[\"0\", \"1\"].x.data_tgt))"
   ]
  },
  {
   "cell_type": "markdown",
   "id": "0dff23ae",
   "metadata": {},
   "source": [
    "Whenever the `tag` is \"cost_matrix\", the backend expects an instantiated cost matrix.\n",
    "There are two different cases to distinguish. First, the user might directly want to\n",
    "pass custom cost matrices, see for example\n",
    ":ref:`sphx_glr_auto_examples_problems_ex_passing_custom_cost_matrices.py`. In this case,\n",
    ":attr:`moscot.solvers.TaggedArray.cost` must be set to `custom`. When setting custom\n",
    "cost matrices, e.g. via :meth:`moscot.problems.base.OTProblem.set_xy`, the\n",
    ":class:`moscot.solvers.TaggedArray` will change its :attr:`moscot.solvers.TaggedArray.tag`.\n",
    "Before setting the custom cost matrix we still have \"point_cloud\" as a tag and\n",
    ":attr:`moscot.solvers.TaggedArray.data_tgt` is not `None`, as it contains\n",
    "the point cloud of the target distribution."
   ]
  },
  {
   "cell_type": "code",
   "execution_count": null,
   "id": "9b1a71ba",
   "metadata": {},
   "outputs": [],
   "source": [
    "print(fgwp[\"0\", \"1\"].xy.tag)\n",
    "print(type(fgwp[\"0\", \"1\"].xy.data_tgt))"
   ]
  },
  {
   "cell_type": "markdown",
   "id": "c93f9912",
   "metadata": {},
   "source": [
    "We now construct a (random) custom cost matrix for the linear term."
   ]
  },
  {
   "cell_type": "code",
   "execution_count": null,
   "id": "a723c855",
   "metadata": {},
   "outputs": [],
   "source": [
    "obs_names_0 = fgwp[\"0\", \"1\"].adata_src.obs_names\n",
    "obs_names_1 = fgwp[\"0\", \"1\"].adata_tgt.obs_names\n",
    "cost_linear_01 = np.abs(rng.normal(size=(len(obs_names_0), len(obs_names_1))))\n",
    "cm_linear = pd.DataFrame(data=cost_linear_01, index=obs_names_0, columns=obs_names_1)\n",
    "\n",
    "fgwp[\"0\", \"1\"].set_xy(cm_linear, tag=\"cost_matrix\")\n",
    "\n",
    "print(fgwp[\"0\", \"1\"].xy.tag)\n",
    "print(type(fgwp[\"0\", \"1\"].xy.data_tgt))"
   ]
  },
  {
   "cell_type": "markdown",
   "id": "137f70fb",
   "metadata": {},
   "source": [
    "If the cost matrix is to be computed via a class in :mod:`moscot.costs`, the\n",
    ":attr:`moscot.solvers.TaggedArray.cost` must be set to the :obj:`str`, see for example\n",
    ":ref:`sphx_glr_auto_examples_problems_ex_use_leaf_distance.py`."
   ]
  }
 ],
 "metadata": {
  "jupytext": {
   "cell_metadata_filter": "-all",
   "executable": "/usr/bin/env python",
   "main_language": "python",
   "notebook_metadata_filter": "-all"
  },
  "kernelspec": {
   "display_name": "moscot",
   "language": "python",
   "name": "moscot"
  },
  "language_info": {
   "codemirror_mode": {
    "name": "ipython",
    "version": 3
   },
   "file_extension": ".py",
   "mimetype": "text/x-python",
   "name": "python",
   "nbconvert_exporter": "python",
   "pygments_lexer": "ipython3",
   "version": "3.10.9"
  }
 },
 "nbformat": 4,
 "nbformat_minor": 5
}
