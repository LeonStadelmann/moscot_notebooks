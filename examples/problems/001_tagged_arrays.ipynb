{
 "cells": [
  {
   "cell_type": "code",
   "execution_count": null,
   "id": "a5b5583d",
   "metadata": {},
   "outputs": [],
   "source": [
    "%matplotlib inline"
   ]
  },
  {
   "cell_type": "markdown",
   "id": "30c48e2f",
   "metadata": {
    "cell_marker": "\"\"\""
   },
   "source": [
    "Tagged Arrays\n",
    "-------------"
   ]
  },
  {
   "cell_type": "markdown",
   "id": "5b691235",
   "metadata": {},
   "source": [
    "This notebook introduces :class:`moscot.solvers.TaggedArray`.\n",
    "\n",
    ":class:`moscot.solvers.TaggedArray` stores the data passed by the users in a unified\n",
    "way before it is passed to the backend."
   ]
  },
  {
   "cell_type": "code",
   "execution_count": null,
   "id": "dec86f59",
   "metadata": {},
   "outputs": [],
   "source": [
    "from moscot.datasets import simulate_data\n",
    "from moscot.problems.generic import FGWProblem\n",
    "import scanpy as sc\n",
    "\n",
    "import numpy as np\n",
    "import pandas as pd\n",
    "\n",
    "rng = np.random.default_rng(seed=42)\n",
    "adata = simulate_data(n_distributions=2, key=\"batch\")\n",
    "sc.pp.pca(adata)\n",
    "adata"
   ]
  },
  {
   "cell_type": "markdown",
   "id": "768a0240",
   "metadata": {},
   "source": [
    "We instantiate and prepare a :class:`moscot.problems.generic.FGWProblem` to demonstrate\n",
    "the role of :class:`moscot.solvers.TaggedArray`."
   ]
  },
  {
   "cell_type": "code",
   "execution_count": null,
   "id": "16f0c3a9",
   "metadata": {},
   "outputs": [],
   "source": [
    "fgwp = FGWProblem(adata)\n",
    "fgwp = fgwp.prepare(key=\"batch\", joint_attr=\"X_pca\", GW_x=\"X_pca\", GW_y=\"X_pca\")"
   ]
  },
  {
   "cell_type": "markdown",
   "id": "bc4d940a",
   "metadata": {},
   "source": [
    "The `:class:moscot.problems.base.OTProblem` has attributes\n",
    "`:attr:moscot.problems.base.OTProblem.xy`,\n",
    "`:attr:moscot.problems.base.OTProblem.x`, and\n",
    "`:attr:moscot.problems.base.OTProblem.y`, storing the data for the linear and\n",
    "quadratic terms, respectively. These attributes are all of type :class:`moscot.solvers.TaggedArray`."
   ]
  },
  {
   "cell_type": "code",
   "execution_count": null,
   "id": "7b70c639",
   "metadata": {},
   "outputs": [],
   "source": [
    "print(fgwp[\"0\", \"1\"].x)\n",
    "print(fgwp[\"0\", \"1\"].y)\n",
    "print(fgwp[\"0\", \"1\"].xy)\n",
    "\n",
    "\n",
    "# Each :class:`moscot.solvers.TaggedArray` has attributes\n",
    "# :attr:`moscot.solvers.TaggedArray.data_src`, :attr:`moscot.solvers.TaggedArray.data_tgt`,\n",
    "# :attr:`moscot.solvers.TaggedArray.cost`, and :attr:`moscot.solvers.TaggedArray.tag`.\n",
    "\n",
    "print(fgwp[\"0\", \"1\"].xy.data_src)\n",
    "print(fgwp[\"0\", \"1\"].xy.data_tgt)\n",
    "print(fgwp[\"0\", \"1\"].xy.cost)\n",
    "print(fgwp[\"0\", \"1\"].xy.tag)"
   ]
  },
  {
   "cell_type": "code",
   "execution_count": null,
   "id": "e50ce79b",
   "metadata": {},
   "outputs": [],
   "source": [
    "# The :attr:`moscot.solvers.TaggedArray.tag` is of type :class:`moscot.solvers.Tag` and\n",
    "# defines what kind of data is stored in the :class:`moscot.solvers.TaggedArray`.\n",
    "# Possible tags are \"cost_matrix\", \"kernel\", and \"point_cloud\". Whenever the `tag` is \"point_cloud\",\n",
    "# the backend is expted to compute the cost on the fly. Note that this often reduces\n",
    "# memory complexity from quadratic to linear and hence is advisable.\n",
    "# :attr:`moscot.solvers.TaggedArray.cost` should then specify which cost to compute from the\n",
    "# point clouds.\n",
    "#\n",
    "# If the :class:`moscot.solvers.TaggedArray` corresponds to a linear term,\n",
    "# :attr:`moscot.solvers.TaggedArray.data_src` and :attr:`moscot.solvers.TaggedArray.data_tgt`\n",
    "# contain the point clouds of the source and the target distribution, respectively.\n",
    "\n",
    "print(type(fgwp[\"0\", \"1\"].xy.data_src))\n",
    "print(type(fgwp[\"0\", \"1\"].xy.data_tgt))"
   ]
  },
  {
   "cell_type": "code",
   "execution_count": null,
   "id": "e3d67c03",
   "metadata": {},
   "outputs": [],
   "source": [
    "# If the :class:`moscot.solvers.TaggedArray` corresponds to a quadratic term, the cost\n",
    "# will be computed pairwise between points of the same distribution. Hence,\n",
    "# :attr:`moscot.solvers.TaggedArray.data_tgt` will be `None`.\n",
    "\n",
    "print(type(fgwp[\"0\", \"1\"].x.data_src))\n",
    "print(type(fgwp[\"0\", \"1\"].x.data_tgt))"
   ]
  },
  {
   "cell_type": "markdown",
   "id": "0dff23ae",
   "metadata": {},
   "source": [
    "Whenever the `tag` is \"cost_matrix\", the backend expects an instantiated cost matrix.\n",
    "There are two different cases to distinguish. First, the user might directly want to\n",
    "pass custom cost matrices, see for example\n",
    ":ref:`sphx_glr_auto_examples_problems_ex_passing_custom_cost_matrices.py`. In this case,\n",
    ":attr:`moscot.solvers.TaggedArray.cost` must be set to `custom`. When setting custom\n",
    "cost matrices, e.g. via :meth:`moscot.problems.base.OTProblem.set_xy`, the\n",
    ":class:`moscot.solvers.TaggedArray` will change its :attr:`moscot.solvers.TaggedArray.tag`.\n",
    "Before setting the custom cost matrix we still have \"point_cloud\" as a tag and\n",
    ":attr:`moscot.solvers.TaggedArray.data_tgt` is not `None`, as it contains\n",
    "the point cloud of the target distribution."
   ]
  },
  {
   "cell_type": "code",
   "execution_count": null,
   "id": "9b1a71ba",
   "metadata": {},
   "outputs": [],
   "source": [
    "print(fgwp[\"0\", \"1\"].xy.tag)\n",
    "print(type(fgwp[\"0\", \"1\"].xy.data_tgt))"
   ]
  },
  {
   "cell_type": "markdown",
   "id": "c93f9912",
   "metadata": {},
   "source": [
    "We now construct a (random) custom cost matrix for the linear term."
   ]
  },
  {
   "cell_type": "code",
   "execution_count": null,
   "id": "a723c855",
   "metadata": {},
   "outputs": [],
   "source": [
    "obs_names_0 = fgwp[\"0\", \"1\"].adata_src.obs_names\n",
    "obs_names_1 = fgwp[\"0\", \"1\"].adata_tgt.obs_names\n",
    "cost_linear_01 = np.abs(rng.normal(size=(len(obs_names_0), len(obs_names_1))))\n",
    "cm_linear = pd.DataFrame(data=cost_linear_01, index=obs_names_0, columns=obs_names_1)\n",
    "\n",
    "fgwp[\"0\", \"1\"].set_xy(cm_linear, tag=\"cost_matrix\")\n",
    "\n",
    "print(fgwp[\"0\", \"1\"].xy.tag)\n",
    "print(type(fgwp[\"0\", \"1\"].xy.data_tgt))"
   ]
  },
  {
   "cell_type": "markdown",
   "id": "137f70fb",
   "metadata": {},
   "source": [
    "If the cost matrix is to be computed via a class in :mod:`moscot.costs`, the\n",
    ":attr:`moscot.solvers.TaggedArray.cost` must be set to the :obj:`str`, see for example\n",
    ":ref:`sphx_glr_auto_examples_problems_ex_use_leaf_distance.py`."
   ]
  }
 ],
 "metadata": {
  "jupytext": {
   "cell_metadata_filter": "-all",
   "executable": "/usr/bin/env python",
   "main_language": "python",
   "notebook_metadata_filter": "-all"
  }
 },
 "nbformat": 4,
 "nbformat_minor": 5
}
