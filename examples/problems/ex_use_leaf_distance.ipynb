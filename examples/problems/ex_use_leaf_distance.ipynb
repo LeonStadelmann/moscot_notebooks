{
 "cells": [
  {
   "cell_type": "code",
   "execution_count": null,
   "id": "a106a6d0",
   "metadata": {},
   "outputs": [],
   "source": [
    "%matplotlib inline"
   ]
  },
  {
   "cell_type": "markdown",
   "id": "c05fb64f",
   "metadata": {
    "cell_marker": "\"\"\""
   },
   "source": [
    "Passing lineage trees as cost\n",
    "-----------------------------"
   ]
  },
  {
   "cell_type": "markdown",
   "id": "2fd3c652",
   "metadata": {},
   "source": [
    "This notebook demonstrates how lineage trees can be passed, specifically\n",
    "useful for the :class:`moscot.problems.time.LineageProblem`.\n",
    "\n",
    "The :class:`moscot.problems.time.LineageProblem` requires lineage information.\n",
    ":mod:`moscot` allows this in three way: by passing precomputed cost matrices,\n",
    "by passing barcodes or by passing a lineage tree as a :class:`networkx.DiGraph`.\n",
    "In this notebook, we consider the lineage tree case."
   ]
  },
  {
   "cell_type": "code",
   "execution_count": null,
   "id": "0156644a",
   "metadata": {},
   "outputs": [],
   "source": [
    "from moscot.datasets import simulate_data\n",
    "from moscot.problems.time import LineageProblem\n",
    "\n",
    "adata = simulate_data(n_distributions=3, key=\"day\", quad_term=\"tree\")\n",
    "adata"
   ]
  },
  {
   "cell_type": "markdown",
   "id": "520831bb",
   "metadata": {},
   "source": [
    "We assume trees to be saved in :attr:`anndata.AnnData.uns` as a dictionary."
   ]
  },
  {
   "cell_type": "code",
   "execution_count": null,
   "id": "57e9c1cd",
   "metadata": {},
   "outputs": [],
   "source": [
    "adata.uns[\"trees\"]"
   ]
  },
  {
   "cell_type": "markdown",
   "id": "63b8d413",
   "metadata": {},
   "source": [
    "Now, we can instantiate and prepare the :class:`moscot.problems.time.LineageProblem`\n",
    "by specifying the cost"
   ]
  },
  {
   "cell_type": "code",
   "execution_count": null,
   "id": "9066185a",
   "metadata": {},
   "outputs": [],
   "source": [
    "\n",
    "lp = LineageProblem(adata)\n",
    "lp = lp.prepare(time_key=\"day\", lineage_attr={\"attr\": \"uns\", \"key\": \"trees\", \"cost\": \"leaf_distance\"})"
   ]
  },
  {
   "cell_type": "markdown",
   "id": "924ccfe7",
   "metadata": {
    "lines_to_next_cell": 0
   },
   "source": [
    "Internally, cost matrices have been computed from the trees, according to the leaf\n",
    "distance. Let us investigate the prepared problem. First, we print the first few\n",
    "entries of the cost matrix computed from the first lineage tree."
   ]
  },
  {
   "cell_type": "code",
   "execution_count": null,
   "id": "05907023",
   "metadata": {},
   "outputs": [],
   "source": [
    "lp[0, 1].x.data_src[:3, :3]"
   ]
  },
  {
   "cell_type": "markdown",
   "id": "e22f1823",
   "metadata": {
    "lines_to_next_cell": 0
   },
   "source": [
    "Similarly, we investigate parts of the cost matrix created from the second tree."
   ]
  },
  {
   "cell_type": "code",
   "execution_count": null,
   "id": "79e8bda0",
   "metadata": {},
   "outputs": [],
   "source": [
    "lp[0, 1].y.data_src[:3, :3]"
   ]
  },
  {
   "cell_type": "markdown",
   "id": "93fd321b",
   "metadata": {
    "lines_to_next_cell": 0
   },
   "source": [
    "Note that the gene expression term is still saved as two point clouds. The\n",
    "cost matrix will be computed by the backend."
   ]
  },
  {
   "cell_type": "code",
   "execution_count": null,
   "id": "5c6d7e72",
   "metadata": {},
   "outputs": [],
   "source": [
    "lp[0, 1].xy.data_src.shape, lp[0, 1].xy.data_tgt.shape"
   ]
  },
  {
   "cell_type": "markdown",
   "id": "fa8a022b",
   "metadata": {},
   "source": [
    "TODO See other examples for ..."
   ]
  }
 ],
 "metadata": {
  "jupytext": {
   "cell_metadata_filter": "-all",
   "executable": "/usr/bin/env python",
   "main_language": "python",
   "notebook_metadata_filter": "-all"
  }
 },
 "nbformat": 4,
 "nbformat_minor": 5
}
