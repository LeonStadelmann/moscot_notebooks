{
 "cells": [
  {
   "cell_type": "markdown",
   "id": "5773a182",
   "metadata": {},
   "source": [
    "# Using subset policy\n",
    "\n",
    "This example shows how to use different policies.\n",
    "\n",
    "A policy is the rule which sets of transport maps are computed given different distributions of cells.\n",
    "\n",
    "Some problem classes require a certain policy, e.g., the {class}`~moscot.problems.space.MappingProblem`\n",
    "only works with the {class}`~moscot.utils.ExternalStarPolicy` meaning that all spatial\n",
    "batches from the {class}`~anndata.AnnData` object are mapped to the same single cell reference cell distribution.\n",
    "\n",
    "Each problem class has a set of valid policies. For the {class}`~moscot.problems.time.LineageProblem` and the\n",
    "{class}`~moscot.problems.time.TemporalProblem` we can choose among different policies which we demonstrate below.\n",
    "\n",
    "```{note}\n",
    "In TODO link other notebooks\n",
    "```"
   ]
  },
  {
   "cell_type": "code",
   "execution_count": 1,
   "id": "ea5df5cb",
   "metadata": {},
   "outputs": [
    {
     "data": {
      "text/plain": [
       "AnnData object with n_obs × n_vars = 80 × 60\n",
       "    obs: 'day', 'celltype'"
      ]
     },
     "execution_count": 1,
     "metadata": {},
     "output_type": "execute_result"
    }
   ],
   "source": [
    "from moscot.datasets import simulate_data\n",
    "from moscot.problems.time import TemporalProblem\n",
    "\n",
    "adata = simulate_data(n_distributions=4, key=\"day\")\n",
    "adata"
   ]
  },
  {
   "cell_type": "markdown",
   "id": "cef16a3d",
   "metadata": {},
   "source": [
    "This simulated dataset contains single cell data across 4 time points (0--3). The policy allows us to determine which transport maps we want to compute."
   ]
  },
  {
   "cell_type": "markdown",
   "id": "837fd70c",
   "metadata": {},
   "source": [
    "## {class}`~moscot.problems.time.TemporalProblem` policies"
   ]
  },
  {
   "cell_type": "markdown",
   "id": "073fd13f",
   "metadata": {},
   "source": [
    "###  {class}`~moscot.utils.SequentialPolicy`\n",
    "\n",
    "We start with the default policy, which is the {class}`~moscot.utils.SequentialPolicy`. The following code shows which optimal transport (OT) problems are prepared to be solved.\n",
    "\n",
    "We see that all consecutive pairs of values in the `time_key` column are used to create an OT problem."
   ]
  },
  {
   "cell_type": "code",
   "execution_count": 2,
   "id": "884848d4",
   "metadata": {},
   "outputs": [
    {
     "name": "stdout",
     "output_type": "stream",
     "text": [
      "\u001b[34mINFO    \u001b[0m Computing pca with `\u001b[33mn_comps\u001b[0m=\u001b[1;36m30\u001b[0m` for `xy` using `adata.X`                                                  \n",
      "\u001b[34mINFO    \u001b[0m Computing pca with `\u001b[33mn_comps\u001b[0m=\u001b[1;36m30\u001b[0m` for `xy` using `adata.X`                                                  \n",
      "\u001b[34mINFO    \u001b[0m Computing pca with `\u001b[33mn_comps\u001b[0m=\u001b[1;36m30\u001b[0m` for `xy` using `adata.X`                                                  \n"
     ]
    },
    {
     "data": {
      "text/plain": [
       "{(0, 1): BirthDeathProblem[stage='prepared', shape=(20, 20)],\n",
       " (1, 2): BirthDeathProblem[stage='prepared', shape=(20, 20)],\n",
       " (2, 3): BirthDeathProblem[stage='prepared', shape=(20, 20)]}"
      ]
     },
     "execution_count": 2,
     "metadata": {},
     "output_type": "execute_result"
    }
   ],
   "source": [
    "tp_sequential = TemporalProblem(adata)\n",
    "tp_sequential = tp_sequential.prepare(time_key=\"day\", policy=\"sequential\")\n",
    "tp_sequential.problems"
   ]
  },
  {
   "cell_type": "markdown",
   "id": "1f5ab7da",
   "metadata": {},
   "source": [
    "### {class}`~moscot.utils.TriangularPolicy`"
   ]
  },
  {
   "cell_type": "code",
   "execution_count": 3,
   "id": "bfdab0e0",
   "metadata": {},
   "outputs": [
    {
     "name": "stdout",
     "output_type": "stream",
     "text": [
      "\u001b[34mINFO    \u001b[0m Computing pca with `\u001b[33mn_comps\u001b[0m=\u001b[1;36m30\u001b[0m` for `xy` using `adata.X`                                                  \n",
      "\u001b[34mINFO    \u001b[0m Computing pca with `\u001b[33mn_comps\u001b[0m=\u001b[1;36m30\u001b[0m` for `xy` using `adata.X`                                                  \n",
      "\u001b[34mINFO    \u001b[0m Computing pca with `\u001b[33mn_comps\u001b[0m=\u001b[1;36m30\u001b[0m` for `xy` using `adata.X`                                                  \n",
      "\u001b[34mINFO    \u001b[0m Computing pca with `\u001b[33mn_comps\u001b[0m=\u001b[1;36m30\u001b[0m` for `xy` using `adata.X`                                                  \n",
      "\u001b[34mINFO    \u001b[0m Computing pca with `\u001b[33mn_comps\u001b[0m=\u001b[1;36m30\u001b[0m` for `xy` using `adata.X`                                                  \n",
      "\u001b[34mINFO    \u001b[0m Computing pca with `\u001b[33mn_comps\u001b[0m=\u001b[1;36m30\u001b[0m` for `xy` using `adata.X`                                                  \n"
     ]
    },
    {
     "data": {
      "text/plain": [
       "{(0, 1): BirthDeathProblem[stage='prepared', shape=(20, 20)],\n",
       " (1, 2): BirthDeathProblem[stage='prepared', shape=(20, 20)],\n",
       " (0, 3): BirthDeathProblem[stage='prepared', shape=(20, 20)],\n",
       " (2, 3): BirthDeathProblem[stage='prepared', shape=(20, 20)],\n",
       " (0, 2): BirthDeathProblem[stage='prepared', shape=(20, 20)],\n",
       " (1, 3): BirthDeathProblem[stage='prepared', shape=(20, 20)]}"
      ]
     },
     "execution_count": 3,
     "metadata": {},
     "output_type": "execute_result"
    }
   ],
   "source": [
    "tp_triu = TemporalProblem(adata)\n",
    "tp_triu = tp_triu.prepare(time_key=\"day\", policy=\"triu\")\n",
    "tp_triu.problems"
   ]
  },
  {
   "cell_type": "markdown",
   "id": "b05bd030",
   "metadata": {},
   "source": [
    "### {class}`~moscot.utils.ExplicitPolicy`"
   ]
  },
  {
   "cell_type": "code",
   "execution_count": 4,
   "id": "aa4f79a7",
   "metadata": {},
   "outputs": [
    {
     "name": "stdout",
     "output_type": "stream",
     "text": [
      "\u001b[34mINFO    \u001b[0m Computing pca with `\u001b[33mn_comps\u001b[0m=\u001b[1;36m30\u001b[0m` for `xy` using `adata.X`                                                  \n",
      "\u001b[34mINFO    \u001b[0m Computing pca with `\u001b[33mn_comps\u001b[0m=\u001b[1;36m30\u001b[0m` for `xy` using `adata.X`                                                  \n",
      "\u001b[34mINFO    \u001b[0m Computing pca with `\u001b[33mn_comps\u001b[0m=\u001b[1;36m30\u001b[0m` for `xy` using `adata.X`                                                  \n"
     ]
    },
    {
     "data": {
      "text/plain": [
       "{(0, 1): BirthDeathProblem[stage='prepared', shape=(20, 20)],\n",
       " (0, 3): BirthDeathProblem[stage='prepared', shape=(20, 20)],\n",
       " (1, 3): BirthDeathProblem[stage='prepared', shape=(20, 20)]}"
      ]
     },
     "execution_count": 4,
     "metadata": {},
     "output_type": "execute_result"
    }
   ],
   "source": [
    "tp_expl = TemporalProblem(adata)\n",
    "tp_expl = tp_expl.prepare(time_key=\"day\", policy=\"explicit\", subset=[(0, 1), (0, 3), (1, 3)])\n",
    "tp_expl.problems"
   ]
  }
 ],
 "metadata": {
  "jupytext": {
   "cell_metadata_filter": "-all",
   "executable": "/usr/bin/env python",
   "main_language": "python",
   "notebook_metadata_filter": "-all"
  },
  "kernelspec": {
   "display_name": "moscot",
   "language": "python",
   "name": "moscot"
  },
  "language_info": {
   "codemirror_mode": {
    "name": "ipython",
    "version": 3
   },
   "file_extension": ".py",
   "mimetype": "text/x-python",
   "name": "python",
   "nbconvert_exporter": "python",
   "pygments_lexer": "ipython3",
   "version": "3.10.9"
  }
 },
 "nbformat": 4,
 "nbformat_minor": 5
}
