{
 "cells": [
  {
   "cell_type": "code",
   "execution_count": null,
   "id": "1f92087e",
   "metadata": {},
   "outputs": [],
   "source": [
    "%matplotlib inline"
   ]
  },
  {
   "cell_type": "markdown",
   "id": "5825b776",
   "metadata": {
    "cell_marker": "\"\"\""
   },
   "source": [
    "Using custom cost matrices\n",
    "--------------------------"
   ]
  },
  {
   "cell_type": "markdown",
   "id": "00cad006",
   "metadata": {},
   "source": [
    "This notebook demonstrates how to use custom cost matrices\n",
    "\n",
    "Even if it is recommended to pass the data as opposed to pre-computed cost\n",
    "matrices due to computational complexity, we demonstrate in the following how\n",
    "to pass custom cost matrices.\n",
    "\n",
    "There are two ways to pass custom cost matrices, either by setting them on a\n",
    "single problem level after preparing the problem or by\n",
    ":attr:`anndata.AnnData.obsp`."
   ]
  },
  {
   "cell_type": "code",
   "execution_count": null,
   "id": "3b40c566",
   "metadata": {},
   "outputs": [],
   "source": [
    "from moscot.datasets import simulate_data\n",
    "from moscot.problems.generic import FGWProblem\n",
    "import scanpy as sc\n",
    "\n",
    "import numpy as np\n",
    "import pandas as pd\n",
    "\n",
    "rng = np.random.default_rng(seed=42)\n",
    "adata = simulate_data(n_distributions=3, key=\"batch\")\n",
    "sc.pp.pca(adata)\n",
    "adata"
   ]
  },
  {
   "cell_type": "markdown",
   "id": "fc7d6089",
   "metadata": {},
   "source": [
    "The first option is to prepare the problem in an arbitrary way and override\n",
    "the cost terms of the single OT problems after."
   ]
  },
  {
   "cell_type": "code",
   "execution_count": null,
   "id": "36ef5120",
   "metadata": {},
   "outputs": [],
   "source": [
    "fgwp = FGWProblem(adata)\n",
    "fgwp = fgwp.prepare(key=\"batch\", joint_attr=\"X_pca\", GW_x=\"X_pca\", GW_y=\"X_pca\")\n",
    "fgwp"
   ]
  },
  {
   "cell_type": "markdown",
   "id": "625be056",
   "metadata": {},
   "source": [
    "Passing custom cost matrices one by one\n",
    "~~~~~~~~~~~~~~~~~~~~~~~~~~~~~~~~~~~~~~~\n",
    "\n",
    "We can pass the custom cost matrices by accessing the\n",
    ":class:`moscot.problems.base.OTProblem`. The method\n",
    ":meth:`moscot.problems.base.OTProblem.set_xy` allows to pass a custom cost matrix\n",
    "for the linear term. :meth:`moscot.problems.base.OTProblem.set_x` allows to set\n",
    "a custom cost matrix for the quadratic term corresponding to the source distribution,\n",
    "while :meth:`moscot.problems.base.OTProblem.set_y` works analogously for the quadratic\n",
    "term in the target distribution.\n",
    "\n",
    "When using the above-mentioned methods we need to pass a :class:`pandas.DataFrame`\n",
    "to ensure that the order of the rows and columns of the cost matrix is correct.\n",
    "In the following we retrieve the cell names to construct the :class:`pandas.DataFrame`\n",
    "containing (random) custom cost matrices."
   ]
  },
  {
   "cell_type": "code",
   "execution_count": null,
   "id": "ca81a426",
   "metadata": {},
   "outputs": [],
   "source": [
    "obs_names_0 = fgwp[\"0\", \"1\"].adata_src.obs_names\n",
    "obs_names_1 = fgwp[\"0\", \"1\"].adata_tgt.obs_names\n",
    "\n",
    "cost_linear_01 = np.abs(rng.normal(size=(len(obs_names_0), len(obs_names_1))))\n",
    "cost_quad_0 = np.abs(rng.normal(size=(len(obs_names_0), len(obs_names_0))))\n",
    "np.fill_diagonal(cost_quad_0, 0)\n",
    "cost_quad_1 = np.abs(rng.normal(size=(len(obs_names_1), len(obs_names_1))))\n",
    "np.fill_diagonal(cost_quad_1, 0)\n",
    "\n",
    "cm_linear = pd.DataFrame(data=cost_linear_01, index=obs_names_0, columns=obs_names_1)\n",
    "cm_quad_0 = pd.DataFrame(data=cost_quad_0, index=obs_names_0, columns=obs_names_0)\n",
    "cm_quad_1 = pd.DataFrame(data=cost_quad_1, index=obs_names_1, columns=obs_names_1)"
   ]
  },
  {
   "cell_type": "markdown",
   "id": "8f72ceef",
   "metadata": {},
   "source": [
    "Now we can set the custom cost matrices:"
   ]
  },
  {
   "cell_type": "code",
   "execution_count": null,
   "id": "2195c41a",
   "metadata": {},
   "outputs": [],
   "source": [
    "fgwp[\"0\", \"1\"].set_xy(cm_linear, tag=\"cost_matrix\")\n",
    "fgwp[\"0\", \"1\"].set_x(cm_quad_0, tag=\"cost_matrix\")\n",
    "fgwp[\"0\", \"1\"].set_y(cm_quad_1, tag=\"cost_matrix\")"
   ]
  },
  {
   "cell_type": "markdown",
   "id": "6a403bc1",
   "metadata": {},
   "source": [
    "When solving the problem, the custom cost matrices will be used for the\n",
    "problem mapping from batch \"0\" to batch \"1\", while the problem mapping from batch \"1\" to\n",
    "batch \"2\" is still using the information passed in\n",
    ":meth:`moscot.problems.generic.FGWProblem.prepare`."
   ]
  },
  {
   "cell_type": "markdown",
   "id": "5d33f1c7",
   "metadata": {},
   "source": [
    "Passing custom cost matrices via :attr:`anndata.AnnData.obsp`\n",
    "~~~~~~~~~~~~~~~~~~~~~~~~~~~~~~~~~~~~~~~~~~~~~~~~~~~~~~~~~~~~~\n",
    "\n",
    "A second way to pass custom cost matrices is using :attr:`anndata.AnnData.obsp`.\n",
    "This is especially useful when saving and loading a model. On the other hand,\n",
    "it might be more difficult to store the cost matrix in the correct place in\n",
    ":attr:`anndata.AnnData.obsp`.\n",
    "In the following, we construct the attr:`anndata.AnnData.obsp` layer. When doing\n",
    "this, be sure that the order of the cost matrix entries are correct.\n",
    "In the following, we construct an :attr:`anndata.AnnData.obsp` layer containing\n",
    "custom cost matrices for both linear and quadratic terms for both OT problems,\n",
    "mapping from batch \"0\" to batch \"1\", and from batch \"1\" to batch \"2\"."
   ]
  },
  {
   "cell_type": "code",
   "execution_count": null,
   "id": "e21b574c",
   "metadata": {},
   "outputs": [],
   "source": [
    "obs_names_2 = fgwp[\"1\", \"2\"].adata_tgt.obs_names\n",
    "\n",
    "cost_linear_12 = np.abs(rng.normal(size=(len(obs_names_1), len(obs_names_2))))\n",
    "cost_quad_2 = np.abs(rng.normal(size=(len(obs_names_2), len(obs_names_2))))\n",
    "np.fill_diagonal(cost_quad_2, 0)\n",
    "\n",
    "print(cost_quad_0.shape)\n",
    "print(cost_quad_1.shape)\n",
    "print(cost_quad_2.shape)\n",
    "print(cost_linear_01.shape)\n",
    "print(cost_linear_12.shape)\n",
    "\n",
    "blocks = [\n",
    "    [cost_quad_0, cost_linear_01, np.zeros((len(obs_names_0), len(obs_names_2)))],\n",
    "    [np.zeros((len(obs_names_1), len(obs_names_0))), cost_quad_1, cost_linear_12],\n",
    "    [np.zeros((len(obs_names_2), len(obs_names_0))), np.zeros((len(obs_names_2), len(obs_names_1))), cost_quad_2],\n",
    "]\n",
    "\n",
    "print(adata.shape)\n",
    "adata.obsp[\"cost_matrices\"] = np.block(blocks)"
   ]
  },
  {
   "cell_type": "markdown",
   "id": "3724651d",
   "metadata": {},
   "source": [
    "We need to specify where to fetch the custom cost matrices in the\n",
    ":meth:`moscot.problems.generic.FGWProblem.prepare` methods. If we want to only\n",
    "use the linear custom cost matrix, we need to modify the `joint_attr` as follows"
   ]
  },
  {
   "cell_type": "code",
   "execution_count": null,
   "id": "4b99031c",
   "metadata": {},
   "outputs": [],
   "source": [
    "joint_attr = {\"key\": \"cost_matrices\", \"tag\": \"cost_matrix\"}\n",
    "fgwp = fgwp.prepare(key=\"batch\", joint_attr=joint_attr, GW_x=\"X_pca\", GW_y=\"X_pca\")"
   ]
  },
  {
   "cell_type": "markdown",
   "id": "b3ed4f02",
   "metadata": {},
   "source": [
    "If we want to use only quadratic custom cost matrices, we need to modify `GW_x`\n",
    "and `GW_y`."
   ]
  },
  {
   "cell_type": "code",
   "execution_count": null,
   "id": "7c6f8eb6",
   "metadata": {},
   "outputs": [],
   "source": [
    "GW_x = {\"attr\": \"obsp\", \"key\": \"cost_matrices\", \"tag\": \"cost_matrix\", \"cost\": \"custom\"}\n",
    "GW_y = {\"attr\": \"obsp\", \"key\": \"cost_matrices\", \"tag\": \"cost_matrix\", \"cost\": \"custom\"}\n",
    "fgwp = fgwp.prepare(key=\"batch\", joint_attr=\"X_pca\", GW_x=GW_x, GW_y=GW_y)"
   ]
  },
  {
   "cell_type": "markdown",
   "id": "4f417f79",
   "metadata": {},
   "source": [
    "If we want to use custom cost matrices for all terms, we can do this the following\n",
    "way"
   ]
  },
  {
   "cell_type": "code",
   "execution_count": null,
   "id": "cbb8b363",
   "metadata": {},
   "outputs": [],
   "source": [
    "fgwp = fgwp.prepare(key=\"batch\", joint_attr=joint_attr, GW_x=GW_x, GW_y=GW_y)"
   ]
  },
  {
   "cell_type": "markdown",
   "id": "aeebea0a",
   "metadata": {},
   "source": [
    "TODO: link to notebook explaining tagged arrays"
   ]
  }
 ],
 "metadata": {
  "jupytext": {
   "cell_metadata_filter": "-all",
   "executable": "/usr/bin/env python",
   "main_language": "python",
   "notebook_metadata_filter": "-all"
  }
 },
 "nbformat": 4,
 "nbformat_minor": 5
}
