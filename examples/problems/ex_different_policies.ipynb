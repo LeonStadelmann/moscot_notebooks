{
 "cells": [
  {
   "cell_type": "code",
   "execution_count": null,
   "id": "eaa832e1",
   "metadata": {},
   "outputs": [],
   "source": [
    "%matplotlib inline"
   ]
  },
  {
   "cell_type": "markdown",
   "id": "b8a5d93f",
   "metadata": {
    "cell_marker": "\"\"\""
   },
   "source": [
    "Using different policies\n",
    "------------------------"
   ]
  },
  {
   "cell_type": "markdown",
   "id": "5773a182",
   "metadata": {},
   "source": [
    "This example shows how to use different policies.\n",
    "\n",
    "A policy is the rule which sets of transport maps are computed given different distributions of cells.\n",
    "\n",
    "Some problem classes require a certain policy, e.g. the :class:`moscot.solvers.space.MappingProblem`\n",
    "only works with the :class:`moscot.solvers._subset_policy.ExternalStarPolicy` meaning that all spatial\n",
    "batches from the :class:`anndata.AnnData` object are mapped to the same single cell reference cell distribution.\n",
    "\n",
    "Each problem class has a set of valid policies. For the :class:`moscot.solvers.time.LineageProblem` and the\n",
    ":class:`moscot.solvers.time.TemporalProblem` we can choose among different policies which we demonstrate below."
   ]
  },
  {
   "cell_type": "code",
   "execution_count": null,
   "id": "ea5df5cb",
   "metadata": {},
   "outputs": [],
   "source": [
    "\n",
    "from moscot.datasets import simulate_data\n",
    "from moscot.problems.time import TemporalProblem\n",
    "\n",
    "adata = simulate_data(n_distributions=8, key=\"day\")\n",
    "adata"
   ]
  },
  {
   "cell_type": "markdown",
   "id": "cef16a3d",
   "metadata": {},
   "source": [
    "This simulated dataset contains single cell data across 8 time points, i.e. day 0-8.\n",
    "\n",
    "The policy allows us to determine which transport maps we want to compute."
   ]
  },
  {
   "cell_type": "markdown",
   "id": "e66c37af",
   "metadata": {},
   "source": [
    " Different policies\n",
    " ******************"
   ]
  },
  {
   "cell_type": "code",
   "execution_count": null,
   "id": "15ceb022",
   "metadata": {},
   "outputs": [],
   "source": [
    "# In the following, we consider a few policies which can be used for the\n",
    "# :class:`moscot.solvers.time.TemporalProblem`."
   ]
  },
  {
   "cell_type": "markdown",
   "id": "0615aad6",
   "metadata": {},
   "source": [
    " Sequential policy\n",
    " ~~~~~~~~~~~~~~~~~"
   ]
  },
  {
   "cell_type": "markdown",
   "id": "073fd13f",
   "metadata": {},
   "source": [
    "We start with the default policy, which is the sequential policy.\n",
    "The following code shows which OT problems are prepared to be solved."
   ]
  },
  {
   "cell_type": "code",
   "execution_count": null,
   "id": "884848d4",
   "metadata": {},
   "outputs": [],
   "source": [
    "tp_sequential = TemporalProblem(adata)\n",
    "tp_sequential = tp_sequential.prepare(time_key=\"day\", policy=\"sequential\")\n",
    "tp_sequential.problems"
   ]
  },
  {
   "cell_type": "markdown",
   "id": "6575a974",
   "metadata": {},
   "source": [
    "We see that all consecutive pairs of values in the `time_key` column are used to create an OT problem"
   ]
  },
  {
   "cell_type": "markdown",
   "id": "1f5ab7da",
   "metadata": {},
   "source": [
    "Upper triangular policy\n",
    "~~~~~~~~~~~~~~~~~~~~~~~"
   ]
  },
  {
   "cell_type": "code",
   "execution_count": null,
   "id": "bfdab0e0",
   "metadata": {},
   "outputs": [],
   "source": [
    "tp_triu = TemporalProblem(adata)\n",
    "tp_triu = tp_triu.prepare(time_key=\"day\", policy=\"triu\")\n",
    "tp_triu.problems"
   ]
  },
  {
   "cell_type": "markdown",
   "id": "b05bd030",
   "metadata": {},
   "source": [
    "Explicit policy\n",
    "~~~~~~~~~~~~~~~"
   ]
  },
  {
   "cell_type": "code",
   "execution_count": null,
   "id": "aa4f79a7",
   "metadata": {},
   "outputs": [],
   "source": [
    "tp_expl = TemporalProblem(adata)\n",
    "tp_expl = tp_expl.prepare(time_key=\"day\", policy=\"explicit\", subset=[(0, 1), (1, 3), (4, 9)])\n",
    "tp_expl.problems"
   ]
  },
  {
   "cell_type": "markdown",
   "id": "e1b364f8",
   "metadata": {},
   "source": [
    "In TODO link other notebooks"
   ]
  }
 ],
 "metadata": {
  "jupytext": {
   "cell_metadata_filter": "-all",
   "executable": "/usr/bin/env python",
   "main_language": "python",
   "notebook_metadata_filter": "-all"
  }
 },
 "nbformat": 4,
 "nbformat_minor": 5
}
