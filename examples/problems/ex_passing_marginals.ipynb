{
 "cells": [
  {
   "cell_type": "code",
   "execution_count": null,
   "id": "25a4e723",
   "metadata": {},
   "outputs": [],
   "source": [
    "%matplotlib inline"
   ]
  },
  {
   "cell_type": "markdown",
   "id": "bb04c712",
   "metadata": {
    "cell_marker": "\"\"\""
   },
   "source": [
    "Handling marginals\n",
    "------------------"
   ]
  },
  {
   "cell_type": "markdown",
   "id": "7a7c25b1",
   "metadata": {},
   "source": [
    "This notebook demonstrates how to marginals are handled.\n",
    "\n",
    "Marginals define the weight of each single cell within a distribution of cells.\n",
    "In many cases, marginals are chosen to be uniform as all cells are considered\n",
    "to be equally important. In some cases, we have prior knowledge to adapt the\n",
    "marginals. For example,\n",
    ":meth:`moscot.problems.time.TemporalProblem.score_genes_for_marginals` computes\n",
    "the marginals such that cells expressing proliferation marker genes get a higher\n",
    "weight as they are assumed to have multiple descendants. See the TODO notebooks\n",
    "for a use case in the temporal domain.\n",
    "Here, we demonstrate how to pass marginals with the `moscot.problems.space.AlignmentProblem`.\n",
    "We might want to adapt the marginals as we know that certain cells are outliers in space,\n",
    "so they should not influence the mapping too much."
   ]
  },
  {
   "cell_type": "code",
   "execution_count": null,
   "id": "7905c11f",
   "metadata": {},
   "outputs": [],
   "source": [
    "from moscot.datasets import sim_align\n",
    "from moscot.problems.space import AlignmentProblem\n",
    "\n",
    "import numpy as np\n",
    "\n",
    "adata = sim_align()\n",
    "adata"
   ]
  },
  {
   "cell_type": "markdown",
   "id": "ec31a71b",
   "metadata": {},
   "source": [
    "If marginals are not specified, they are assumed to be uniform."
   ]
  },
  {
   "cell_type": "code",
   "execution_count": null,
   "id": "5f7b8829",
   "metadata": {},
   "outputs": [],
   "source": [
    "ap = AlignmentProblem(adata)\n",
    "ap = ap.prepare(batch_key=\"batch\", policy=\"sequential\")\n",
    "print(ap[\"0\", \"1\"].a, ap[\"0\", \"1\"].b)"
   ]
  },
  {
   "cell_type": "markdown",
   "id": "a5222d81",
   "metadata": {
    "lines_to_next_cell": 0
   },
   "source": [
    "If we want to specify the marginals, they should be passed via\n",
    ":attr:`anndata.AnnData.obs`. Let's assume, we want to assign less weight to\n",
    "the \"first\" cell in our source distribution."
   ]
  },
  {
   "cell_type": "code",
   "execution_count": null,
   "id": "7096b748",
   "metadata": {},
   "outputs": [],
   "source": [
    "source_marginals = np.ones(adata.n_obs)\n",
    "source_marginals[0] = 0.5\n",
    "adata.obs[\"source_marginals\"] = source_marginals"
   ]
  },
  {
   "cell_type": "markdown",
   "id": "09b02d6e",
   "metadata": {
    "lines_to_next_cell": 0
   },
   "source": [
    "Similarly, we want to assign less weight to cell '397-1' in the target\n",
    "distribution."
   ]
  },
  {
   "cell_type": "code",
   "execution_count": null,
   "id": "dc76e5fc",
   "metadata": {
    "lines_to_next_cell": 0
   },
   "outputs": [],
   "source": [
    "target_marginals = np.ones(adata.n_obs)\n",
    "target_marginals[np.where(adata.obs_names == \"397-1\")[0]] = 0.5\n",
    "adata.obs[\"target_marginals\"] = target_marginals"
   ]
  },
  {
   "cell_type": "code",
   "execution_count": null,
   "id": "39da12e8",
   "metadata": {},
   "outputs": [],
   "source": [
    "ap2 = AlignmentProblem(adata)\n",
    "ap2 = ap2.prepare(batch_key=\"batch\", a=\"source_marginals\", b=\"target_marginals\")\n",
    "print(ap2[\"0\", \"1\"].a, ap2[\"1\", \"2\"].b)"
   ]
  },
  {
   "cell_type": "markdown",
   "id": "798f699e",
   "metadata": {},
   "source": [
    "Note that cell `397-1` belongs to batch 2, hence it never appears in a source\n",
    "distribution as we have chosen the sequential policy. Thus, the value in\n",
    "`adata[adata.obs_names=='397-1'].obs[\"source_distributions\"]` has no effect.\n",
    "Similarly, the cells belonging to batch \"0\" are never part of a target distribution.\n",
    "Hence, the values in `adata[adata.obs[\"batch\"]==\"0\"].obs[\"target_marginals\"]` are\n",
    "irrelevant.\n",
    "Also note that the scale of the marginals influences the convergence criterion.\n",
    "Hence, we recommend normalizing the marginals to 1.\n",
    "TODO See other examples for ..."
   ]
  }
 ],
 "metadata": {
  "jupytext": {
   "cell_metadata_filter": "-all",
   "executable": "/usr/bin/env python",
   "main_language": "python",
   "notebook_metadata_filter": "-all"
  }
 },
 "nbformat": 4,
 "nbformat_minor": 5
}
